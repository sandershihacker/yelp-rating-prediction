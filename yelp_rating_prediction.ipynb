{
 "cells": [
  {
   "cell_type": "markdown",
   "metadata": {},
   "source": [
    "# Yelp Restaurant Rating Prediction\n",
    "\n",
    "## Project Description\n",
    "The project goal is to predict restaurant overall ratings on yelp\n",
    "in New York City, using multiple features of restaurants that we will\n",
    "extract using the yelp API. Our motivation is to help determine how\n",
    "successful a new restaurant business might be, given certain known\n",
    "characteristics of it.\n",
    "\n",
    "We will use the Yelp API, with the help of pandas, to acquire raw data\n",
    "from restaurants. Then we will extract reasonable features such as\n",
    "location, open hours, whether it takes reservations, whether it has\n",
    "delivery service, whether there is parking space, and whether it\n",
    "provides free wifi etc., from the parsed data, and combine with the\n",
    "overall ratings, which is a numerical value ranging from 0 to 5, as\n",
    "labels.\n",
    "\n",
    "We will model the rating distribution over the different features that\n",
    "we extract and create, and analyse how much each feature shifts our\n",
    "distribution. Using our results from this we will select good features\n",
    "to train on machine learning models.\n",
    "\n",
    "Using the labeled features that we construct, we will train different\n",
    "machine learning models like linear regression, nonlinear regression,\n",
    "logistic regression as well as neural networks, then make some\n",
    "predictions, and compare the accuracy obtained from them.\n",
    "\n",
    "## Team Members\n",
    "Jun Hee Kim, Nikhil Rangarajan, Sander Shi\n",
    "\n",
    "## Procedure\n",
    "* [Data Gathering from API](#step-1)\n",
    "* [Feature Extraction with Parsing](#step-2)\n",
    "* [Feature Analysis and Variable Selection](#step-3)\n",
    "* [Feature Engineering and Compression](#step-4)\n",
    "* [Machine Learning Model Setup](#step-5)\n",
    "* [Cross Validation](#step-6)\n",
    "* [Prediction and Test Accuracy](#step-7)\n",
    "* [Final Analysis](#step-8)"
   ]
  },
  {
   "cell_type": "markdown",
   "metadata": {},
   "source": [
    "## Part 0: Imports and Definitions of Constants\n",
    "\n",
    "We will be using `pandas` to parse the data and `tensorflow` to construct the machine learning models. We will also be using the Yelp API to gather the data. In order to\n",
    "use the Yelp API, we need to create an API key to use in our API requests."
   ]
  },
  {
   "cell_type": "code",
   "execution_count": 35,
   "metadata": {},
   "outputs": [],
   "source": [
    "import tensorflow as tf\n",
    "import numpy as np\n",
    "import pandas as pd\n",
    "import requests\n",
    "import json\n",
    "import time\n",
    "import pickle\n",
    "import matplotlib.pyplot as plt\n",
    "%matplotlib inline\n",
    "from sklearn.neural_network import MLPClassifier\n",
    "from collections import Counter\n",
    "import scipy.stats as stats\n",
    "\n",
    "API_URL = \"https://api.yelp.com/v3/businesses\"\n",
    "SEARCH_URL = API_URL + \"/search\"\n",
    "RESTAURANT_IDS = \"rid.pkl\"\n",
    "\n",
    "with open(\"./API_KEY\", 'r') as f:\n",
    "    api_key = f.readline().strip()\n",
    "API_HEADERS = {\n",
    "    'Authorization': ' '.join(['Bearer', api_key])\n",
    "}"
   ]
  },
  {
   "cell_type": "markdown",
   "metadata": {},
   "source": [
    "<a id=\"step-1\"></a>\n",
    "\n",
    "## Part 1: Data Gathering from API\n",
    "\n",
    "In this step we will use the Yelp API to gather restaurant pages, then extract\n",
    "information using business search API requests."
   ]
  },
  {
   "cell_type": "markdown",
   "metadata": {},
   "source": [
    "Since the Yelp API will only allow us to load business information from up to 1000\n",
    "distinct businesses on each search, we will first get the categories of the\n",
    "restaurants, then perform a search query for each category."
   ]
  },
  {
   "cell_type": "code",
   "execution_count": 36,
   "metadata": {},
   "outputs": [],
   "source": [
    "def get_restaurant_categories(url):\n",
    "    \"\"\"\n",
    "    This function gets all restaurant categories.\n",
    "    \n",
    "    @input url: URL to json file containing restaurant categories.\n",
    "    @type url: String.\n",
    "    \n",
    "    @return: List of restaurant categories.\n",
    "    @rtype: List of String\n",
    "    \"\"\"\n",
    "    cats = json.load(open(url))\n",
    "    return [cat['alias'] for cat in cats if 'restaurants' in cat['parents']]\n",
    "\n",
    "categories = get_restaurant_categories('categories.json')\n",
    "category_dict = {k: v for v, k in enumerate(categories)}"
   ]
  },
  {
   "cell_type": "markdown",
   "metadata": {},
   "source": [
    "To aid feature creation for categories, we can write a function that maps every category\n",
    "to a number."
   ]
  },
  {
   "cell_type": "code",
   "execution_count": 37,
   "metadata": {},
   "outputs": [
    {
     "data": {
      "text/plain": [
       "92"
      ]
     },
     "execution_count": 37,
     "metadata": {},
     "output_type": "execute_result"
    }
   ],
   "source": [
    "def cat2num(category):\n",
    "    \"\"\"\n",
    "    This function maps each category to a natural number to aid feature creation.\n",
    "    \n",
    "    @input category: A category.\n",
    "    @type category: String.\n",
    "    \n",
    "    @return: An integer that the category is mapped to.\n",
    "    @rtype: Integer.\n",
    "    \"\"\"\n",
    "    return category_dict.get(category, (len(category_dict) + 1))\n",
    "\n",
    "cat2num(\"italian\")"
   ]
  },
  {
   "cell_type": "markdown",
   "metadata": {},
   "source": [
    "Now that we have the restaurant categories, we can write a function to find all\n",
    "restaurant IDs, and create a Pandas DataFrame. To aid debugging, we will dump\n",
    "the dataframe into a pickle file so that we will not have to regenerate each time."
   ]
  },
  {
   "cell_type": "code",
   "execution_count": 38,
   "metadata": {
    "scrolled": false
   },
   "outputs": [
    {
     "data": {
      "text/html": [
       "<div>\n",
       "<style scoped>\n",
       "    .dataframe tbody tr th:only-of-type {\n",
       "        vertical-align: middle;\n",
       "    }\n",
       "\n",
       "    .dataframe tbody tr th {\n",
       "        vertical-align: top;\n",
       "    }\n",
       "\n",
       "    .dataframe thead th {\n",
       "        text-align: right;\n",
       "    }\n",
       "</style>\n",
       "<table border=\"1\" class=\"dataframe\">\n",
       "  <thead>\n",
       "    <tr style=\"text-align: right;\">\n",
       "      <th></th>\n",
       "      <th>id</th>\n",
       "    </tr>\n",
       "  </thead>\n",
       "  <tbody>\n",
       "    <tr>\n",
       "      <th>16076</th>\n",
       "      <td>kOFUrzoQPW6F0Bqllz5lpg</td>\n",
       "    </tr>\n",
       "    <tr>\n",
       "      <th>16077</th>\n",
       "      <td>bHQbqSRY8FDp7fQXPPzx1g</td>\n",
       "    </tr>\n",
       "    <tr>\n",
       "      <th>16078</th>\n",
       "      <td>s2xONRCHI08MISGZXzqBhA</td>\n",
       "    </tr>\n",
       "    <tr>\n",
       "      <th>16079</th>\n",
       "      <td>cevkTGf4vX_IBU_bGlz9ww</td>\n",
       "    </tr>\n",
       "    <tr>\n",
       "      <th>16080</th>\n",
       "      <td>MV39gToOLxzRdfuzzt-kUA</td>\n",
       "    </tr>\n",
       "  </tbody>\n",
       "</table>\n",
       "</div>"
      ],
      "text/plain": [
       "                           id\n",
       "16076  kOFUrzoQPW6F0Bqllz5lpg\n",
       "16077  bHQbqSRY8FDp7fQXPPzx1g\n",
       "16078  s2xONRCHI08MISGZXzqBhA\n",
       "16079  cevkTGf4vX_IBU_bGlz9ww\n",
       "16080  MV39gToOLxzRdfuzzt-kUA"
      ]
     },
     "execution_count": 38,
     "metadata": {},
     "output_type": "execute_result"
    }
   ],
   "source": [
    "def get_req_json(url, params=None):\n",
    "    \"\"\"\n",
    "    This function is a wrapper for a get request to the API.\n",
    "    \n",
    "    @input url: The API url.\n",
    "    @type url: String.\n",
    "    @input params: The parameters to pass to the get request.\n",
    "    @type params: Dict.\n",
    "    \n",
    "    @return: A json response.\n",
    "    @rtype: JSON\n",
    "    \"\"\"\n",
    "    response = requests.get(url=url, headers=API_HEADERS, params=params)\n",
    "    return response.json()\n",
    "\n",
    "\n",
    "def find_restaurants(url, categories):\n",
    "    \"\"\"\n",
    "    This function loads all restaurant data from restaurants in NYC.\n",
    "    \n",
    "    @input url: The API url.\n",
    "    @type url: String.\n",
    "    @input categories: The restaurant categories.\n",
    "    @type categories: List of String.\n",
    "    \n",
    "    @return: A Pandas DataFrame containing the restaurant IDs.\n",
    "    @rtype: pandas.DataFrame.\n",
    "    \"\"\"\n",
    "    restaurants = []\n",
    "    for cat in categories:\n",
    "        params = {\n",
    "            'term': 'restaurants',\n",
    "            'location': 'NYC',\n",
    "            'categories': cat\n",
    "        }\n",
    "        content = get_req_json(url, params)\n",
    "        total = min(1000, content['total'])\n",
    "        i = 0\n",
    "        while i < total:\n",
    "            limit = min(50, total - i)\n",
    "            params['limit'] = limit\n",
    "            params['offset'] = i\n",
    "            content = get_req_json(url, params)\n",
    "            restaurants.extend([b['id'] for b in content['businesses']])\n",
    "            i += limit\n",
    "    return pd.DataFrame({'id': list(set(restaurants))})\n",
    "\n",
    "# Uncomment the following lines to get the restaurant IDs and recreate the pickle file.\n",
    "# restaurants = find_restaurants(SEARCH_URL, categories)\n",
    "# pickle.dump(restaurants, open(RESTAURANT_IDS, \"wb\"))\n",
    "\n",
    "# Load restaurant IDs from pickle file\n",
    "restaurant_ids = pickle.load(open(RESTAURANT_IDS, 'rb'))\n",
    "restaurant_ids.tail()"
   ]
  },
  {
   "cell_type": "markdown",
   "metadata": {},
   "source": [
    "<a id=\"step-2\"></a>\n",
    "\n",
    "## Part 2: Feature Extraction with Parsing\n",
    "\n",
    "Now that we have all the restaurant ids, in this step we can do a business lookup\n",
    "to get the specific data of the restaurants."
   ]
  },
  {
   "cell_type": "code",
   "execution_count": 39,
   "metadata": {},
   "outputs": [
    {
     "data": {
      "text/plain": [
       "{'alias': 'new-pizza-professor-brooklyn-brooklyn',\n",
       " 'categories': [{'alias': 'pizza', 'title': 'Pizza'},\n",
       "  {'alias': 'kosher', 'title': 'Kosher'}],\n",
       " 'coordinates': {'latitude': 40.6184002, 'longitude': -73.9564177},\n",
       " 'display_phone': '(347) 587-4277',\n",
       " 'hours': [{'hours_type': 'REGULAR',\n",
       "   'is_open_now': False,\n",
       "   'open': [{'day': 0, 'end': '0200', 'is_overnight': True, 'start': '1100'},\n",
       "    {'day': 1, 'end': '0200', 'is_overnight': True, 'start': '1100'},\n",
       "    {'day': 2, 'end': '0200', 'is_overnight': True, 'start': '1100'},\n",
       "    {'day': 3, 'end': '0200', 'is_overnight': True, 'start': '1100'},\n",
       "    {'day': 4, 'end': '1445', 'is_overnight': False, 'start': '1100'},\n",
       "    {'day': 5, 'end': '0300', 'is_overnight': True, 'start': '2030'},\n",
       "    {'day': 6, 'end': '0200', 'is_overnight': True, 'start': '1100'}]}],\n",
       " 'id': 'UTNSUIY2QW6RYNa0xLa9gg',\n",
       " 'image_url': 'https://s3-media2.fl.yelpcdn.com/bphoto/zpkQadE2UF3DjvOBUHF9PA/o.jpg',\n",
       " 'is_claimed': True,\n",
       " 'is_closed': False,\n",
       " 'location': {'address1': '1824 Avenue M',\n",
       "  'address2': '',\n",
       "  'address3': None,\n",
       "  'city': 'Brooklyn',\n",
       "  'country': 'US',\n",
       "  'cross_streets': '19th St & Bay Ave',\n",
       "  'display_address': ['1824 Avenue M', 'Brooklyn, NY 11230'],\n",
       "  'state': 'NY',\n",
       "  'zip_code': '11230'},\n",
       " 'name': 'New Pizza Professor - Brooklyn',\n",
       " 'phone': '+13475874277',\n",
       " 'photos': ['https://s3-media2.fl.yelpcdn.com/bphoto/zpkQadE2UF3DjvOBUHF9PA/o.jpg',\n",
       "  'https://s3-media4.fl.yelpcdn.com/bphoto/wTJKgZg2jvAbFjyxrKpfNg/o.jpg',\n",
       "  'https://s3-media2.fl.yelpcdn.com/bphoto/Mk5_1qxJEvgbhHoXlhsG9g/o.jpg'],\n",
       " 'rating': 2.5,\n",
       " 'review_count': 16,\n",
       " 'transactions': ['delivery', 'pickup'],\n",
       " 'url': 'https://www.yelp.com/biz/new-pizza-professor-brooklyn-brooklyn?adjust_creative=ZAj1bx8bJHOcikvnMXVxEg&utm_campaign=yelp_api_v3&utm_medium=api_v3_business_lookup&utm_source=ZAj1bx8bJHOcikvnMXVxEg'}"
      ]
     },
     "execution_count": 39,
     "metadata": {},
     "output_type": "execute_result"
    }
   ],
   "source": [
    "def get_data(rids, api_url):\n",
    "    \"\"\"\n",
    "    This function uses the Yelp business lookup API to get all data from each\n",
    "    restaurant.\n",
    "    \n",
    "    @input api_url: The API url.\n",
    "    @type api_url: String.\n",
    "    @input rids: The dataframe containing all restaurant IDs.\n",
    "    @type rids: pandas.DataFrame.\n",
    "    \n",
    "    @return: A list of restaurant information.\n",
    "    @rtype: List of Json Object.\n",
    "    \"\"\"\n",
    "    info = []\n",
    "    for idx, rid in rids.iterrows():\n",
    "        url = \"/\".join([api_url, rid['id']])\n",
    "        content = get_req_json(url)\n",
    "        info.append(content)\n",
    "    return info\n",
    "\n",
    "# Uncomment the following two lines to get the data from the API and save to pickle.\n",
    "# all_data = get_data(restaurant_ids, API_URL)\n",
    "# pickle.dump(all_data, open(\"restaurant_data.pkl\", \"wb\"))\n",
    "\n",
    "# Load all restaurant data from pickle file.\n",
    "all_data = pickle.load(open(\"restaurant_data.pkl\", 'rb'))\n",
    "all_data[0]"
   ]
  },
  {
   "cell_type": "markdown",
   "metadata": {},
   "source": [
    "Using the data that we obtained from the API, we can extract useful information from it to build\n",
    "a dataframe of features."
   ]
  },
  {
   "cell_type": "code",
   "execution_count": 40,
   "metadata": {
    "scrolled": false
   },
   "outputs": [
    {
     "data": {
      "text/html": [
       "<div>\n",
       "<style scoped>\n",
       "    .dataframe tbody tr th:only-of-type {\n",
       "        vertical-align: middle;\n",
       "    }\n",
       "\n",
       "    .dataframe tbody tr th {\n",
       "        vertical-align: top;\n",
       "    }\n",
       "\n",
       "    .dataframe thead th {\n",
       "        text-align: right;\n",
       "    }\n",
       "</style>\n",
       "<table border=\"1\" class=\"dataframe\">\n",
       "  <thead>\n",
       "    <tr style=\"text-align: right;\">\n",
       "      <th></th>\n",
       "      <th>borough</th>\n",
       "      <th>category</th>\n",
       "      <th>delivery</th>\n",
       "      <th>fri_end</th>\n",
       "      <th>fri_is_overnight</th>\n",
       "      <th>fri_start</th>\n",
       "      <th>is_claimed</th>\n",
       "      <th>pickup</th>\n",
       "      <th>price</th>\n",
       "      <th>rating</th>\n",
       "      <th>...</th>\n",
       "      <th>sun_is_overnight</th>\n",
       "      <th>sun_start</th>\n",
       "      <th>wed_end</th>\n",
       "      <th>wed_is_overnight</th>\n",
       "      <th>wed_start</th>\n",
       "      <th>zip_code</th>\n",
       "      <th>fri_duration</th>\n",
       "      <th>sat_duration</th>\n",
       "      <th>sun_duration</th>\n",
       "      <th>wed_duration</th>\n",
       "    </tr>\n",
       "  </thead>\n",
       "  <tbody>\n",
       "    <tr>\n",
       "      <th>16071</th>\n",
       "      <td>Queens</td>\n",
       "      <td>191</td>\n",
       "      <td>0</td>\n",
       "      <td>1380</td>\n",
       "      <td>0</td>\n",
       "      <td>660</td>\n",
       "      <td>0</td>\n",
       "      <td>0</td>\n",
       "      <td>2</td>\n",
       "      <td>3.5</td>\n",
       "      <td>...</td>\n",
       "      <td>0</td>\n",
       "      <td>660</td>\n",
       "      <td>1380</td>\n",
       "      <td>0</td>\n",
       "      <td>660</td>\n",
       "      <td>11368</td>\n",
       "      <td>12.00</td>\n",
       "      <td>12.00</td>\n",
       "      <td>12.00</td>\n",
       "      <td>12.00</td>\n",
       "    </tr>\n",
       "    <tr>\n",
       "      <th>16072</th>\n",
       "      <td>Manhattan</td>\n",
       "      <td>191</td>\n",
       "      <td>0</td>\n",
       "      <td>1080</td>\n",
       "      <td>0</td>\n",
       "      <td>720</td>\n",
       "      <td>0</td>\n",
       "      <td>0</td>\n",
       "      <td>2</td>\n",
       "      <td>3.0</td>\n",
       "      <td>...</td>\n",
       "      <td>0</td>\n",
       "      <td>720</td>\n",
       "      <td>1080</td>\n",
       "      <td>0</td>\n",
       "      <td>720</td>\n",
       "      <td>10036</td>\n",
       "      <td>6.00</td>\n",
       "      <td>6.00</td>\n",
       "      <td>6.00</td>\n",
       "      <td>6.00</td>\n",
       "    </tr>\n",
       "    <tr>\n",
       "      <th>16073</th>\n",
       "      <td>Brooklyn</td>\n",
       "      <td>23</td>\n",
       "      <td>1</td>\n",
       "      <td>1440</td>\n",
       "      <td>1</td>\n",
       "      <td>0</td>\n",
       "      <td>0</td>\n",
       "      <td>1</td>\n",
       "      <td>2</td>\n",
       "      <td>3.0</td>\n",
       "      <td>...</td>\n",
       "      <td>1</td>\n",
       "      <td>0</td>\n",
       "      <td>1440</td>\n",
       "      <td>1</td>\n",
       "      <td>0</td>\n",
       "      <td>11201</td>\n",
       "      <td>24.00</td>\n",
       "      <td>24.00</td>\n",
       "      <td>24.00</td>\n",
       "      <td>24.00</td>\n",
       "    </tr>\n",
       "    <tr>\n",
       "      <th>16074</th>\n",
       "      <td>Other</td>\n",
       "      <td>93</td>\n",
       "      <td>1</td>\n",
       "      <td>1080</td>\n",
       "      <td>0</td>\n",
       "      <td>720</td>\n",
       "      <td>0</td>\n",
       "      <td>1</td>\n",
       "      <td>2</td>\n",
       "      <td>3.5</td>\n",
       "      <td>...</td>\n",
       "      <td>0</td>\n",
       "      <td>720</td>\n",
       "      <td>1080</td>\n",
       "      <td>0</td>\n",
       "      <td>720</td>\n",
       "      <td>07030</td>\n",
       "      <td>6.00</td>\n",
       "      <td>6.00</td>\n",
       "      <td>6.00</td>\n",
       "      <td>6.00</td>\n",
       "    </tr>\n",
       "    <tr>\n",
       "      <th>16075</th>\n",
       "      <td>Manhattan</td>\n",
       "      <td>37</td>\n",
       "      <td>1</td>\n",
       "      <td>1245</td>\n",
       "      <td>0</td>\n",
       "      <td>720</td>\n",
       "      <td>1</td>\n",
       "      <td>1</td>\n",
       "      <td>0</td>\n",
       "      <td>4.5</td>\n",
       "      <td>...</td>\n",
       "      <td>0</td>\n",
       "      <td>720</td>\n",
       "      <td>1245</td>\n",
       "      <td>0</td>\n",
       "      <td>720</td>\n",
       "      <td>10029</td>\n",
       "      <td>8.75</td>\n",
       "      <td>8.75</td>\n",
       "      <td>8.75</td>\n",
       "      <td>8.75</td>\n",
       "    </tr>\n",
       "  </tbody>\n",
       "</table>\n",
       "<p>5 rows × 25 columns</p>\n",
       "</div>"
      ],
      "text/plain": [
       "         borough  category  delivery  fri_end  fri_is_overnight  fri_start  \\\n",
       "16071     Queens       191         0     1380                 0        660   \n",
       "16072  Manhattan       191         0     1080                 0        720   \n",
       "16073   Brooklyn        23         1     1440                 1          0   \n",
       "16074      Other        93         1     1080                 0        720   \n",
       "16075  Manhattan        37         1     1245                 0        720   \n",
       "\n",
       "       is_claimed  pickup  price  rating      ...       sun_is_overnight  \\\n",
       "16071           0       0      2     3.5      ...                      0   \n",
       "16072           0       0      2     3.0      ...                      0   \n",
       "16073           0       1      2     3.0      ...                      1   \n",
       "16074           0       1      2     3.5      ...                      0   \n",
       "16075           1       1      0     4.5      ...                      0   \n",
       "\n",
       "       sun_start  wed_end  wed_is_overnight  wed_start  zip_code  \\\n",
       "16071        660     1380                 0        660     11368   \n",
       "16072        720     1080                 0        720     10036   \n",
       "16073          0     1440                 1          0     11201   \n",
       "16074        720     1080                 0        720     07030   \n",
       "16075        720     1245                 0        720     10029   \n",
       "\n",
       "       fri_duration  sat_duration  sun_duration  wed_duration  \n",
       "16071         12.00         12.00         12.00         12.00  \n",
       "16072          6.00          6.00          6.00          6.00  \n",
       "16073         24.00         24.00         24.00         24.00  \n",
       "16074          6.00          6.00          6.00          6.00  \n",
       "16075          8.75          8.75          8.75          8.75  \n",
       "\n",
       "[5 rows x 25 columns]"
      ]
     },
     "execution_count": 40,
     "metadata": {},
     "output_type": "execute_result"
    }
   ],
   "source": [
    "def convert(string):\n",
    "    \"\"\"\n",
    "    Convert a time string into minutes\n",
    "    \"\"\"\n",
    "    hour = int(string[0:2])\n",
    "    minutes = int(string[2:])\n",
    "    return hour*60 + minutes\n",
    "    \n",
    "def next_day(diff):\n",
    "    \"\"\"\n",
    "    Return number of hours if restaurant closes past midnight\n",
    "    \"\"\"\n",
    "    if (diff < 0):\n",
    "        return 24*60 + diff\n",
    "    return diff\n",
    "\n",
    "def extract_features(data):\n",
    "    \"\"\"\n",
    "    This function creates a dataframe of features given a list of restaurant data.\n",
    "    \n",
    "    @input data: A list of restaurant data obtained from the Yelp API.\n",
    "    @type api_url: List of JSON Object.\n",
    "    \n",
    "    @return: A Pandas DataFrame containing the restaurant features.\n",
    "    @rtype: pandas.DataFrame.\n",
    "    \"\"\"\n",
    "    prices, ratings, pickups, deliveries= [], [], [], []\n",
    "    reservations, is_claimed, zipcodes, categories = [], [], [], []\n",
    "    days = [2, 4, 5, 6]\n",
    "    hours = dict()\n",
    "    for day in days:\n",
    "        hours[day] = []\n",
    "    for content in (x for x in data if 'error' not in x):\n",
    "        prices.append(len(content.get('price', \"\")))\n",
    "        ratings.append(float(content.get('rating', 0)))\n",
    "        transactions = content.get('transactions', [])\n",
    "        pickups.append(int(\"pickup\" in transactions))\n",
    "        deliveries.append(int(\"delivery\" in transactions))\n",
    "        reservations.append(int(\"restaurant_reservation\" in transactions))\n",
    "        is_claimed.append(int(content.get('is_claimed', False)))\n",
    "        if ('location' not in content) or ('zip_code' not in content['location']):\n",
    "            zipcodes.append('00000')\n",
    "        else:\n",
    "            zc = content['location'].get('zip_code', '00000')\n",
    "            zipcodes.append(zc if zc != '' else '00000')\n",
    "        for day in days:\n",
    "            if \"hours\" in content:\n",
    "                open_hours = content[\"hours\"][0][\"open\"]\n",
    "                stats = [h for h in open_hours if h['day'] == day]\n",
    "                is_overnight = int(True in [h['is_overnight'] for h in stats])\n",
    "                start = min([h['start'] for h in stats], default='0000')\n",
    "                end = max([h['end'] if h['end'] != '0000' else '2400' for h in stats], default='0000')\n",
    "                hours[day].append([is_overnight, start, end])\n",
    "            else:\n",
    "                hours[day].append([0, '1200', '1800'])\n",
    "        cat_list = [c['alias'] for c in content['categories']]\n",
    "        categories.append(cat2num(np.random.choice(cat_list, 1)[0]))\n",
    "        \n",
    "    for day in days:\n",
    "        hours[day] = np.array(hours[day])\n",
    "    \n",
    "    # Map zipcode to borough\n",
    "    # Preprocessed based on https://www.nycbynatives.com/nyc_info/new_york_city_zip_codes.php\n",
    "    boroughs = []\n",
    "    zipcode_borough_dict = np.load('zipcode_borough_dict.npy').item()\n",
    "    for zipcode in zipcodes:\n",
    "        if zipcode in zipcode_borough_dict.keys():\n",
    "            boroughs.append(zipcode_borough_dict[zipcode])\n",
    "        else:\n",
    "            boroughs.append(\"Other\")\n",
    "        \n",
    "    df_dict = {\n",
    "        'price': prices,\n",
    "        'category': categories,\n",
    "        'pickup': pickups,\n",
    "        'delivery': deliveries,\n",
    "        'restaurant_reservation': reservations,\n",
    "        'is_claimed': is_claimed,\n",
    "        'zip_code': zipcodes,\n",
    "        'borough': boroughs,\n",
    "        'rating': ratings,\n",
    "        'wed_is_overnight': hours[2][:, 0].astype(int),\n",
    "        'fri_is_overnight': hours[4][:, 0].astype(int),\n",
    "        'sat_is_overnight': hours[5][:, 0].astype(int),\n",
    "        'sun_is_overnight': hours[6][:, 0].astype(int),\n",
    "        'wed_start': hours[2][:, 1],\n",
    "        'fri_start': hours[4][:, 1],\n",
    "        'sat_start': hours[5][:, 1],\n",
    "        'sun_start': hours[6][:, 1],\n",
    "        'wed_end': hours[2][:, 2],\n",
    "        'fri_end': hours[4][:, 2],\n",
    "        'sat_end': hours[5][:, 2],\n",
    "        'sun_end': hours[6][:, 2]\n",
    "    }\n",
    "    df = pd.DataFrame(df_dict).dropna(axis=0, how='any')\n",
    "    # Add duration columns\n",
    "    # Days that are taken into consideration\n",
    "    days = [\"fri\", \"sat\", \"sun\", \"wed\"]\n",
    "    for day in days:\n",
    "        start_i = day + \"_start\"\n",
    "        end_i = day + \"_end\"\n",
    "        dur = day + \"_duration\"\n",
    "        df.loc[:,start_i] = df.loc[:,start_i].apply(convert)\n",
    "        df.loc[:,end_i] = df.loc[:,end_i].apply(convert)\n",
    "        df.loc[:,dur] = ((df.loc[:,end_i] - df.loc[:,start_i]).apply(next_day))/60\n",
    "    \n",
    "    return df\n",
    "\n",
    "# Extract features from the loaded restaurant data\n",
    "labeled_features = extract_features(all_data)\n",
    "labeled_features.tail()"
   ]
  },
  {
   "cell_type": "markdown",
   "metadata": {},
   "source": [
    "We have all the features of our restaurants now, so it is time to split it into\n",
    "a training set for analysis and training and a test set for testing the accuracy."
   ]
  },
  {
   "cell_type": "code",
   "execution_count": 41,
   "metadata": {},
   "outputs": [
    {
     "data": {
      "text/html": [
       "<div>\n",
       "<style scoped>\n",
       "    .dataframe tbody tr th:only-of-type {\n",
       "        vertical-align: middle;\n",
       "    }\n",
       "\n",
       "    .dataframe tbody tr th {\n",
       "        vertical-align: top;\n",
       "    }\n",
       "\n",
       "    .dataframe thead th {\n",
       "        text-align: right;\n",
       "    }\n",
       "</style>\n",
       "<table border=\"1\" class=\"dataframe\">\n",
       "  <thead>\n",
       "    <tr style=\"text-align: right;\">\n",
       "      <th></th>\n",
       "      <th>borough</th>\n",
       "      <th>category</th>\n",
       "      <th>delivery</th>\n",
       "      <th>fri_end</th>\n",
       "      <th>fri_is_overnight</th>\n",
       "      <th>fri_start</th>\n",
       "      <th>is_claimed</th>\n",
       "      <th>pickup</th>\n",
       "      <th>price</th>\n",
       "      <th>rating</th>\n",
       "      <th>...</th>\n",
       "      <th>sun_is_overnight</th>\n",
       "      <th>sun_start</th>\n",
       "      <th>wed_end</th>\n",
       "      <th>wed_is_overnight</th>\n",
       "      <th>wed_start</th>\n",
       "      <th>zip_code</th>\n",
       "      <th>fri_duration</th>\n",
       "      <th>sat_duration</th>\n",
       "      <th>sun_duration</th>\n",
       "      <th>wed_duration</th>\n",
       "    </tr>\n",
       "  </thead>\n",
       "  <tbody>\n",
       "    <tr>\n",
       "      <th>12855</th>\n",
       "      <td>Manhattan</td>\n",
       "      <td>23</td>\n",
       "      <td>0</td>\n",
       "      <td>1140</td>\n",
       "      <td>0</td>\n",
       "      <td>420</td>\n",
       "      <td>1</td>\n",
       "      <td>0</td>\n",
       "      <td>2</td>\n",
       "      <td>4.0</td>\n",
       "      <td>...</td>\n",
       "      <td>0</td>\n",
       "      <td>480</td>\n",
       "      <td>1140</td>\n",
       "      <td>0</td>\n",
       "      <td>420</td>\n",
       "      <td>10003</td>\n",
       "      <td>12.0</td>\n",
       "      <td>10.0</td>\n",
       "      <td>10.0</td>\n",
       "      <td>12.0</td>\n",
       "    </tr>\n",
       "    <tr>\n",
       "      <th>12856</th>\n",
       "      <td>Manhattan</td>\n",
       "      <td>23</td>\n",
       "      <td>1</td>\n",
       "      <td>1380</td>\n",
       "      <td>0</td>\n",
       "      <td>480</td>\n",
       "      <td>1</td>\n",
       "      <td>1</td>\n",
       "      <td>2</td>\n",
       "      <td>3.5</td>\n",
       "      <td>...</td>\n",
       "      <td>0</td>\n",
       "      <td>540</td>\n",
       "      <td>1350</td>\n",
       "      <td>0</td>\n",
       "      <td>480</td>\n",
       "      <td>10024</td>\n",
       "      <td>15.0</td>\n",
       "      <td>14.0</td>\n",
       "      <td>13.5</td>\n",
       "      <td>14.5</td>\n",
       "    </tr>\n",
       "    <tr>\n",
       "      <th>12857</th>\n",
       "      <td>Manhattan</td>\n",
       "      <td>107</td>\n",
       "      <td>0</td>\n",
       "      <td>1260</td>\n",
       "      <td>0</td>\n",
       "      <td>690</td>\n",
       "      <td>1</td>\n",
       "      <td>0</td>\n",
       "      <td>1</td>\n",
       "      <td>3.0</td>\n",
       "      <td>...</td>\n",
       "      <td>0</td>\n",
       "      <td>690</td>\n",
       "      <td>1260</td>\n",
       "      <td>0</td>\n",
       "      <td>690</td>\n",
       "      <td>10281</td>\n",
       "      <td>9.5</td>\n",
       "      <td>9.5</td>\n",
       "      <td>8.5</td>\n",
       "      <td>9.5</td>\n",
       "    </tr>\n",
       "    <tr>\n",
       "      <th>12858</th>\n",
       "      <td>Other</td>\n",
       "      <td>92</td>\n",
       "      <td>0</td>\n",
       "      <td>1320</td>\n",
       "      <td>0</td>\n",
       "      <td>420</td>\n",
       "      <td>1</td>\n",
       "      <td>0</td>\n",
       "      <td>2</td>\n",
       "      <td>4.5</td>\n",
       "      <td>...</td>\n",
       "      <td>0</td>\n",
       "      <td>540</td>\n",
       "      <td>1320</td>\n",
       "      <td>0</td>\n",
       "      <td>420</td>\n",
       "      <td>07094</td>\n",
       "      <td>15.0</td>\n",
       "      <td>15.0</td>\n",
       "      <td>12.0</td>\n",
       "      <td>15.0</td>\n",
       "    </tr>\n",
       "    <tr>\n",
       "      <th>12859</th>\n",
       "      <td>Brooklyn</td>\n",
       "      <td>23</td>\n",
       "      <td>0</td>\n",
       "      <td>1200</td>\n",
       "      <td>0</td>\n",
       "      <td>420</td>\n",
       "      <td>1</td>\n",
       "      <td>0</td>\n",
       "      <td>2</td>\n",
       "      <td>4.0</td>\n",
       "      <td>...</td>\n",
       "      <td>0</td>\n",
       "      <td>420</td>\n",
       "      <td>1200</td>\n",
       "      <td>0</td>\n",
       "      <td>420</td>\n",
       "      <td>11226</td>\n",
       "      <td>13.0</td>\n",
       "      <td>13.0</td>\n",
       "      <td>13.0</td>\n",
       "      <td>13.0</td>\n",
       "    </tr>\n",
       "  </tbody>\n",
       "</table>\n",
       "<p>5 rows × 25 columns</p>\n",
       "</div>"
      ],
      "text/plain": [
       "         borough  category  delivery  fri_end  fri_is_overnight  fri_start  \\\n",
       "12855  Manhattan        23         0     1140                 0        420   \n",
       "12856  Manhattan        23         1     1380                 0        480   \n",
       "12857  Manhattan       107         0     1260                 0        690   \n",
       "12858      Other        92         0     1320                 0        420   \n",
       "12859   Brooklyn        23         0     1200                 0        420   \n",
       "\n",
       "       is_claimed  pickup  price  rating      ...       sun_is_overnight  \\\n",
       "12855           1       0      2     4.0      ...                      0   \n",
       "12856           1       1      2     3.5      ...                      0   \n",
       "12857           1       0      1     3.0      ...                      0   \n",
       "12858           1       0      2     4.5      ...                      0   \n",
       "12859           1       0      2     4.0      ...                      0   \n",
       "\n",
       "       sun_start  wed_end  wed_is_overnight  wed_start  zip_code  \\\n",
       "12855        480     1140                 0        420     10003   \n",
       "12856        540     1350                 0        480     10024   \n",
       "12857        690     1260                 0        690     10281   \n",
       "12858        540     1320                 0        420     07094   \n",
       "12859        420     1200                 0        420     11226   \n",
       "\n",
       "       fri_duration  sat_duration  sun_duration  wed_duration  \n",
       "12855          12.0          10.0          10.0          12.0  \n",
       "12856          15.0          14.0          13.5          14.5  \n",
       "12857           9.5           9.5           8.5           9.5  \n",
       "12858          15.0          15.0          12.0          15.0  \n",
       "12859          13.0          13.0          13.0          13.0  \n",
       "\n",
       "[5 rows x 25 columns]"
      ]
     },
     "execution_count": 41,
     "metadata": {},
     "output_type": "execute_result"
    }
   ],
   "source": [
    "def split_set(features, p_train=0.8):\n",
    "    \"\"\"\n",
    "    This function splits all the data into a training set and a test set.\n",
    "    \n",
    "    @input features: The feature dataframe.\n",
    "    @type features: pandas.DataFrame.\n",
    "    @input p_train: The percentage of training data.\n",
    "    @type p_train: Float.\n",
    "    \n",
    "    @return: Tuple of training and test set.\n",
    "    @rtype: Tuple of pandas.DataFrame.\n",
    "    \"\"\"\n",
    "    n = len(features)\n",
    "    num_training = int(n * p_train)\n",
    "    indices_perm = np.random.permutation(n)\n",
    "    training_ind = indices_perm[:num_training]\n",
    "    test_ind = indices_perm[num_training + 1:]\n",
    "    training = features.iloc[training_ind]\n",
    "    test = features.iloc[test_ind]\n",
    "    return training.reset_index(drop=True), test.reset_index(drop=True)\n",
    "\n",
    "training_features, test_features = split_set(labeled_features)\n",
    "training_features.tail()"
   ]
  },
  {
   "cell_type": "markdown",
   "metadata": {
    "collapsed": true
   },
   "source": [
    "<a id=\"step-3\"></a>\n",
    "\n",
    "## Part 3: Feature Analysis and Variable Selection\n",
    "\n",
    "Now that we have the features, we can separately analyse them and see how each feature\n",
    "contributes to the rating."
   ]
  },
  {
   "cell_type": "markdown",
   "metadata": {},
   "source": [
    "### 1) Price\n",
    "There are four levels (1, 2, 3, or 4) in price. Let's plot the frequency distribution of ratings for each price level to see if they differ alot, and then run an one-way ANOVA test to see if the population means of the ratings are different for at least two price levels."
   ]
  },
  {
   "cell_type": "code",
   "execution_count": 42,
   "metadata": {},
   "outputs": [
    {
     "data": {
      "image/png": "[encoded data removed]",
      "text/plain": [
       "<Figure size 864x576 with 4 Axes>"
      ]
     },
     "metadata": {},
     "output_type": "display_data"
    }
   ],
   "source": [
    "plt.rcParams[\"figure.figsize\"] = [12,8]\n",
    "\n",
    "def barplot_each_price(price_levels, rating, df, yaxis_same_range):\n",
    "    \"\"\"\n",
    "    Input: \n",
    "    - price_levels is the list of possible price levels\n",
    "    - rating is the list of possible ratings\n",
    "    - df is the pandas dataframe containing the data\n",
    "    \n",
    "    This function plots the bar chart of the ratings for each of the price levels\n",
    "    \"\"\"\n",
    "    for i in price_levels:\n",
    "        price = i\n",
    "        # ratings with this price level\n",
    "        this_price_df = df.loc[df['price']==price]\n",
    "        data = this_price_df['rating']\n",
    "        counter = Counter(data)\n",
    "        freq = [counter[rate] for rate in rating]\n",
    "        plt.subplot(2,2,i)\n",
    "        plt.subplots_adjust(hspace=0.4, wspace=0.4)\n",
    "        plt.bar(rating, freq, width=0.2)\n",
    "        plt.xlabel(\"Rating\")\n",
    "        plt.ylabel(\"Frequency\")\n",
    "        if (yaxis_same_range==True):\n",
    "            plt.ylim(ymin=0, ymax=2500)\n",
    "        plt.xticks(rating, rating)\n",
    "        plt.title(\"Price Level: %s\"%price)\n",
    "    plt.show()\n",
    "\n",
    "barplot_each_price(price_levels=[1,2,3,4], rating=np.linspace(1, 5, 9), df=training_features, yaxis_same_range=True)"
   ]
  },
  {
   "cell_type": "markdown",
   "metadata": {},
   "source": [
    "We've set the y-axis range to be the same for all four subplots so that visually comparing becomes easier. The shapes of the rating frequencies appear very different. But such a visual impression might be due to the number of restaurants being so different for each price level rather than the distributions being different. In fact, the shapes don't differ too much if we don't restrict the y-axis ranges to be same across all subplots."
   ]
  },
  {
   "cell_type": "code",
   "execution_count": 43,
   "metadata": {},
   "outputs": [
    {
     "data": {
      "image/png": "[encoded data removed]",
      "text/plain": [
       "<Figure size 864x576 with 4 Axes>"
      ]
     },
     "metadata": {},
     "output_type": "display_data"
    }
   ],
   "source": [
    "# Same plots, but we don't restrict y-axis ranges to be same\n",
    "barplot_each_price(price_levels=[1,2,3,4], rating=np.linspace(1, 5, 9), df=training_features, yaxis_same_range=False)"
   ]
  },
  {
   "cell_type": "markdown",
   "metadata": {},
   "source": [
    "So let's perform ANOVA to yield some formal conclusion."
   ]
  },
  {
   "cell_type": "code",
   "execution_count": 44,
   "metadata": {},
   "outputs": [
    {
     "data": {
      "text/plain": [
       "F_onewayResult(statistic=43.24952732791449, pvalue=8.831599364090177e-28)"
      ]
     },
     "execution_count": 44,
     "metadata": {},
     "output_type": "execute_result"
    }
   ],
   "source": [
    "def price_oneway_ANOVA(price_levels, df):\n",
    "    \"\"\"\n",
    "    Input: \n",
    "    - price_levels is the list of possible price levels\n",
    "    - df is the pandas dataframe containing the data\n",
    "    \n",
    "    This function returns the output of one-way ANOVA on ratings across different price levels\n",
    "    \"\"\"\n",
    "    # This dictionary will have each key being each price level, and the corresponding value will be the array\n",
    "    # of the ratings of the restaurants with that price level\n",
    "    price_rating_dict = dict()\n",
    "    for price in price_levels:\n",
    "        this_price_df = df.loc[df['price']==price]\n",
    "        price_rating_dict[price] = np.array(this_price_df['rating'])\n",
    "    return stats.f_oneway(*price_rating_dict.values())\n",
    "\n",
    "price_oneway_ANOVA(price_levels=[1,2,3,4], df=training_features)"
   ]
  },
  {
   "cell_type": "markdown",
   "metadata": {},
   "source": [
    "According to the ANOVA output, at $\\alpha=0.01$, the p-value is less than $\\alpha$, so we conclude at least two price levels have population rating means that are different. A limitation of one-way ANOVA is that we can't conclude which groups have different population rating means, but in our context, knowing that the rating means differ in at least two levels lets us conclude price is an important feature."
   ]
  },
  {
   "cell_type": "markdown",
   "metadata": {},
   "source": [
    "### 2) Transactions (Pickup, Delivery, Reservation)\n",
    "\n",
    "We've parsed the transaction features as: \"pickup\" is 1 if pickup is available in that restaurant and 0 otherwise, and similarly for \"delivery\" and \"restaurant_reservation\". For each of the three transaction features, let's use two-sample t-test (one group of the restaurants that have that transaction, and the other group of those that don't) to determine if the two groups have differnt population rating means."
   ]
  },
  {
   "cell_type": "code",
   "execution_count": 45,
   "metadata": {},
   "outputs": [
    {
     "name": "stdout",
     "output_type": "stream",
     "text": [
      "pickup : Ttest_indResult(statistic=2.823204288956901, pvalue=0.004761953782585215)\n",
      "delivery : Ttest_indResult(statistic=4.613726259579576, pvalue=3.993359887294066e-06)\n",
      "restaurant_reservation : Ttest_indResult(statistic=-13.457367534873303, pvalue=1.4451820076293757e-39)\n"
     ]
    }
   ],
   "source": [
    "def two_sample_ttest(feature_name, values, df):\n",
    "    \"\"\"\n",
    "    Input: \n",
    "    - feature_name is the name of the feature\n",
    "    - values is the list of 2 possible values (which determine the 2 groups)\n",
    "    - df is the pandas dataframe containing the data\n",
    "    \n",
    "    This function returns the output of one-way ANOVA on ratings across different price levels\n",
    "    \"\"\"\n",
    "    feature_rating_dict = dict()\n",
    "    for value in values:\n",
    "        this_value_df = df.loc[df[feature_name]==value]\n",
    "        feature_rating_dict[value] = np.array(this_value_df['rating'])\n",
    "    return stats.ttest_ind(*feature_rating_dict.values(), equal_var=False)\n",
    "\n",
    "transaction_vars = ['pickup', 'delivery', 'restaurant_reservation']\n",
    "for feature in transaction_vars:\n",
    "    print(feature, \":\", two_sample_ttest(feature_name=feature, values=[0,1], df=training_features))"
   ]
  },
  {
   "cell_type": "markdown",
   "metadata": {},
   "source": [
    "According to the t-test output, for each of the three transaction features, at $\\alpha=0.01$, the p-value is less than $\\alpha$, so we conclude the two groups have population rating means that are different. One might think that all three features should be included in the model.\n",
    "\n",
    "But common sense makes us suspicious about correlations among the transaction features, and in general, correlated features can cause problems in modeling (e.g. multicollinearity problem in linear regression). Let's examine the correlation coefficient for each pair among the three."
   ]
  },
  {
   "cell_type": "code",
   "execution_count": 46,
   "metadata": {},
   "outputs": [
    {
     "name": "stdout",
     "output_type": "stream",
     "text": [
      "pickup , delivery 0.9309210316999285\n",
      "pickup , restaurant_reservation 0.11392922171974286\n",
      "delivery , restaurant_reservation 0.09500145192886152\n"
     ]
    }
   ],
   "source": [
    "def print_pcc(list_vars, df):\n",
    "    \"\"\"\n",
    "    Input\n",
    "    - list_vars is the list of feature names in which the Pearson Correlation Coefficient for each pair is computed\n",
    "    - df is the pandas dataframe containing the data\n",
    "    \n",
    "    This function prints the Pearson Correlation Coefficient for each pair of the features provided in the list\n",
    "    \"\"\"\n",
    "    for i in range(0, len(list_vars)):\n",
    "        for j in range(i+1, len(list_vars)):\n",
    "            corr = np.corrcoef(df[list_vars[i]], df[list_vars[j]])[0,1]\n",
    "            print(list_vars[i],  \",\", list_vars[j], corr)\n",
    "\n",
    "print_pcc(transaction_vars, df=training_features)"
   ]
  },
  {
   "cell_type": "markdown",
   "metadata": {},
   "source": [
    "Pickup and delivery are highly correlated, but the other two pairs are fine. So among the three, we decide to include reservation and only one of pickup and delivery. Between the two correlated features, we choose delivery since its t-test p-value is lower than pickup's."
   ]
  },
  {
   "cell_type": "markdown",
   "metadata": {},
   "source": [
    "### 3) Zip Code\n",
    "\n",
    "Let's plot a bubble plot of the ratings and zip codes."
   ]
  },
  {
   "cell_type": "code",
   "execution_count": 47,
   "metadata": {},
   "outputs": [
    {
     "data": {
      "image/png": "[encoded data removed]",
      "text/plain": [
       "<Figure size 1152x720 with 1 Axes>"
      ]
     },
     "metadata": {},
     "output_type": "display_data"
    }
   ],
   "source": [
    "plt.rcParams[\"figure.figsize\"] = [16,10]\n",
    "\n",
    "def bubbleplot_two_vars(var1, var2, df, xlabel=\"Borough\", ylabel=\"Rating\"):\n",
    "    \"\"\"\n",
    "    Input\n",
    "    - var1 is the name of the first variable (which is a column in the dataframe)\n",
    "    - var1 is the name of the second variable (which is a column in the dataframe)\n",
    "    - df is the dataframe containing the data\n",
    "    \n",
    "    This function plots a bubble plot of the two variables in the dataframe\n",
    "    (cite: course lecture note on data visualization)\n",
    "    \"\"\"\n",
    "    pairs = np.array(df[[var1, var2]]).astype(str)\n",
    "    label_x, x = np.unique(pairs[:,0], return_inverse=True)\n",
    "    label_y, y = np.unique(pairs[:,1], return_inverse=True)\n",
    "    xy, cnts = np.unique((x,y), axis=1, return_counts=True)\n",
    "    plt.scatter(xy[0], xy[1], s=cnts*8)\n",
    "    plt.xlabel(xlabel)\n",
    "    plt.ylabel(ylabel)\n",
    "    plt.title(\"%s vs %s; Point size indicates count\"%(ylabel, xlabel))\n",
    "    plt.xticks(range(len(label_x)), label_x)\n",
    "    plt.yticks(range(len(label_y)), label_y)\n",
    "    plt.show()\n",
    "\n",
    "bubbleplot_two_vars(var1='borough', var2='rating', df=training_features)"
   ]
  },
  {
   "cell_type": "markdown",
   "metadata": {},
   "source": [
    "We can see that in some boroughs, the ratings of 4.0 and 3.5 are clearly dominant, while for other boroughs, all the ratings are similarly frequent. This plot suggests that ratings do differ for different boroughs."
   ]
  },
  {
   "cell_type": "markdown",
   "metadata": {},
   "source": [
    "Now, let's perform one-way ANOVA on the boroughs to check if at least two boroughs have different population mean of ratings."
   ]
  },
  {
   "cell_type": "code",
   "execution_count": 48,
   "metadata": {},
   "outputs": [
    {
     "data": {
      "text/plain": [
       "F_onewayResult(statistic=4.582616920493421, pvalue=0.00035347406148351473)"
      ]
     },
     "execution_count": 48,
     "metadata": {},
     "output_type": "execute_result"
    }
   ],
   "source": [
    "def borough_oneway_ANOVA(boroughs, df):\n",
    "    \"\"\"\n",
    "    Input: \n",
    "    - boroughs is the list of boroughs\n",
    "    - df is the pandas dataframe containing the data\n",
    "    \n",
    "    This function returns the output of one-way ANOVA on ratings across different boroughs\n",
    "    \"\"\"\n",
    "    # This dictionary will have each key being each borough, and the corresponding value will be the array\n",
    "    # of the ratings of the restaurants in that borough\n",
    "    borough_rating_dict = dict()\n",
    "    for borough in boroughs:\n",
    "        this_borough_df = df.loc[df['borough']==borough]\n",
    "        borough_rating_dict[borough] = np.array(this_borough_df['rating'])\n",
    "    return stats.f_oneway(*borough_rating_dict.values())\n",
    "\n",
    "unique_boroughs = [\"Manhattan\", \"Bronx\", \"Staten\", \"Queens\", \"Brooklyn\", \"Other\"]\n",
    "borough_oneway_ANOVA(boroughs=unique_boroughs, df=training_features)"
   ]
  },
  {
   "cell_type": "markdown",
   "metadata": {},
   "source": [
    "According to the ANOVA output, at $\\alpha=0.01$, the p-value is less than $\\alpha$, so we conclude at least two boroughs have population rating means of restaurants that are different, and so we consider borough an important feature. "
   ]
  },
  {
   "cell_type": "markdown",
   "metadata": {},
   "source": [
    "### 4) Claimed\n",
    "\n",
    "A claimed business page in Yelp is one that has been claimed by the owner or representative of the business through our verification process. Let's plot the frequency of ratings for the claimed restaurants and that for nonclaimed restaurants, and then perform two-sample t-test."
   ]
  },
  {
   "cell_type": "code",
   "execution_count": 49,
   "metadata": {},
   "outputs": [
    {
     "data": {
      "image/png": "[encoded data removed]",
      "text/plain": [
       "<Figure size 720x288 with 2 Axes>"
      ]
     },
     "metadata": {},
     "output_type": "display_data"
    }
   ],
   "source": [
    "plt.rcParams[\"figure.figsize\"] = [10,4]\n",
    "\n",
    "def barplot_claimed(rating, df, yaxis_same_range):\n",
    "    \"\"\"\n",
    "    Input: \n",
    "    - rating is the list of possible ratings\n",
    "    - df is the pandas dataframe containing the data\n",
    "    \n",
    "    This function overplots the bar chart of the ratings for restaurants claimed and those that are not.\n",
    "    \"\"\"\n",
    "    for i in [0,1]:\n",
    "        subplot_index = i + 1\n",
    "        # ratings of claimed restaurants\n",
    "        this_price_df = df.loc[df['is_claimed']==i]\n",
    "        data = this_price_df['rating']\n",
    "        counter = Counter(data)\n",
    "        freq = [counter[rate] for rate in rating]\n",
    "        plt.subplot(1,2,subplot_index)\n",
    "        plt.subplots_adjust(hspace=0.4, wspace=0.4)\n",
    "        plt.bar(rating, freq, width=0.2)\n",
    "        plt.xlabel(\"Rating\")\n",
    "        plt.ylabel(\"Frequency\")\n",
    "        if (yaxis_same_range==True):\n",
    "            plt.ylim(ymin=0, ymax=3500)\n",
    "        plt.xticks(rating, rating)\n",
    "        plt.title(\"Claimed\" if i==1 else \"Not Claimed\")\n",
    "    plt.show()\n",
    "\n",
    "barplot_claimed(rating=np.linspace(1, 5, 9), df=training_features, yaxis_same_range=True)"
   ]
  },
  {
   "cell_type": "markdown",
   "metadata": {},
   "source": [
    "The bar charts suggest that the frequencies are considerably different, especially in terms of how dominantly frequent ratings of 3.5 or 4 are. But again, the shapes are not horribly different once we don't set the y-axis ranges equally."
   ]
  },
  {
   "cell_type": "code",
   "execution_count": 50,
   "metadata": {},
   "outputs": [
    {
     "data": {
      "image/png": "[encoded data removed]",
      "text/plain": [
       "<Figure size 720x288 with 2 Axes>"
      ]
     },
     "metadata": {},
     "output_type": "display_data"
    }
   ],
   "source": [
    "# Same plots, but we don't restrict the y-axis ranges to be the same\n",
    "barplot_claimed(rating=np.linspace(1, 5, 9), df=training_features, yaxis_same_range=False)"
   ]
  },
  {
   "cell_type": "markdown",
   "metadata": {},
   "source": [
    "Let's perform two-sample t-test."
   ]
  },
  {
   "cell_type": "code",
   "execution_count": 51,
   "metadata": {},
   "outputs": [
    {
     "data": {
      "text/plain": [
       "Ttest_indResult(statistic=-17.56652828494104, pvalue=3.487284278114487e-67)"
      ]
     },
     "execution_count": 51,
     "metadata": {},
     "output_type": "execute_result"
    }
   ],
   "source": [
    "two_sample_ttest(feature_name='is_claimed', values=[0,1], df=training_features)"
   ]
  },
  {
   "cell_type": "markdown",
   "metadata": {},
   "source": [
    "According to the t-test output, at $\\alpha=0.01$, the p-value is less than $\\alpha$, so we conclude the two groups have population rating means that are different and thus treat whether or not the restaurant is claimed as a meaningful feature."
   ]
  },
  {
   "cell_type": "markdown",
   "metadata": {},
   "source": [
    "### 5) Hours"
   ]
  },
  {
   "cell_type": "markdown",
   "metadata": {},
   "source": [
    "There are 4 different days that we are taking into consideration - Wednesday, Friday, Saturday and Sunday. \n",
    "\n",
    "For each one of these individual days, we are analyzing how ratings are influenced based on whether the restaurant is in service overnight or not. "
   ]
  },
  {
   "cell_type": "code",
   "execution_count": 52,
   "metadata": {},
   "outputs": [
    {
     "data": {
      "image/png": "[encoded data removed]",
      "text/plain": [
       "<Figure size 792x216 with 2 Axes>"
      ]
     },
     "metadata": {},
     "output_type": "display_data"
    },
    {
     "data": {
      "image/png": "[encoded data removed]",
      "text/plain": [
       "<Figure size 792x216 with 2 Axes>"
      ]
     },
     "metadata": {},
     "output_type": "display_data"
    },
    {
     "data": {
      "image/png": "[encoded data removed]",
      "text/plain": [
       "<Figure size 792x216 with 2 Axes>"
      ]
     },
     "metadata": {},
     "output_type": "display_data"
    },
    {
     "data": {
      "image/png": "[encoded data removed]",
      "text/plain": [
       "<Figure size 792x216 with 2 Axes>"
      ]
     },
     "metadata": {},
     "output_type": "display_data"
    }
   ],
   "source": [
    "plt.rcParams[\"figure.figsize\"] = [11,3]\n",
    "\n",
    "def barplot_overnight(rating, df):\n",
    "    \"\"\"\n",
    "    Input: \n",
    "    - rating is the list of possible ratings\n",
    "    - df is the pandas dataframe containing the training data\n",
    "    \n",
    "    This function plots the bar chart of the ratings for each of the days (overnight or not)\n",
    "    \"\"\"\n",
    "    # Days that are taken into consideration\n",
    "    days = [\"fri\", \"sat\", \"sun\", \"wed\"]\n",
    "    for day in days:\n",
    "        overnight_index = day + \"_is_overnight\"\n",
    "        overnight_day_df = df[[overnight_index, \"rating\"]]\n",
    "        is_overnight = overnight_day_df[overnight_day_df[overnight_index] == 1]\n",
    "        is_not_overnight = overnight_day_df[overnight_day_df[overnight_index] == 0]\n",
    "        # Initialize counters\n",
    "        counter_overnight = Counter(is_overnight[\"rating\"])\n",
    "        counter_not_overnight = Counter(is_not_overnight[\"rating\"])\n",
    "        freq_night = [counter_overnight[rate] for rate in rating]\n",
    "        freq_not_night = [counter_not_overnight[rate] for rate in rating]  \n",
    "        # Plotting\n",
    "        plt.subplot(1, 2, 1)\n",
    "        plt.bar(rating, freq_night, width = 0.2)\n",
    "        plt.xlabel(\"Rating\")\n",
    "        plt.ylabel(\"Frequency\")\n",
    "        plt.ylim(ymin=0, ymax=4500)\n",
    "        plt.xticks(rating, rating)\n",
    "        plt.title(\"%s Overnight\"%day)\n",
    "        plt.subplot(1, 2, 2)\n",
    "        plt.bar(rating, freq_not_night, width = 0.2)\n",
    "        plt.xlabel(\"Rating\")\n",
    "        plt.ylabel(\"Frequency\")\n",
    "        plt.ylim(ymin=0, ymax=4500)\n",
    "        plt.xticks(rating, rating)\n",
    "        plt.title(\"%s Not Overnight\" %day)   \n",
    "        plt.show()\n",
    "        \n",
    "rating=np.linspace(1, 5, 9)\n",
    "barplot_overnight(rating, training_features)"
   ]
  },
  {
   "cell_type": "code",
   "execution_count": 53,
   "metadata": {},
   "outputs": [
    {
     "name": "stdout",
     "output_type": "stream",
     "text": [
      "fri_is_overnight : Ttest_indResult(statistic=5.75849651589644, pvalue=9.150330232964574e-09)\n",
      "sat_is_overnight : Ttest_indResult(statistic=6.018149349603046, pvalue=1.9232908957581952e-09)\n",
      "sun_is_overnight : Ttest_indResult(statistic=7.681725641399413, pvalue=2.4180960095514097e-14)\n",
      "wed_is_overnight : Ttest_indResult(statistic=7.236950372161247, pvalue=6.19030590998771e-13)\n"
     ]
    }
   ],
   "source": [
    "overnight_vars = [\"fri_is_overnight\", \"sat_is_overnight\", \"sun_is_overnight\", \"wed_is_overnight\"]\n",
    "for feature in overnight_vars:\n",
    "    print(feature, \":\", two_sample_ttest(feature_name=feature, values=[0,1], df=training_features))"
   ]
  },
  {
   "cell_type": "markdown",
   "metadata": {},
   "source": [
    "The t-tests suggest for all 4 days of the week, overnight restaurants and non-overnight restaurants have different population mean ratings. But let's examine the correlations across the 4 days."
   ]
  },
  {
   "cell_type": "code",
   "execution_count": 54,
   "metadata": {},
   "outputs": [
    {
     "name": "stdout",
     "output_type": "stream",
     "text": [
      "fri_is_overnight , sat_is_overnight 0.9789072425871981\n",
      "fri_is_overnight , sun_is_overnight 0.7502922998289184\n",
      "fri_is_overnight , wed_is_overnight 0.8005076125478631\n",
      "sat_is_overnight , sun_is_overnight 0.757842857197299\n",
      "sat_is_overnight , wed_is_overnight 0.797495602762021\n",
      "sun_is_overnight , wed_is_overnight 0.9060328086261139\n"
     ]
    }
   ],
   "source": [
    "print_pcc(overnight_vars, df=training_features)"
   ]
  },
  {
   "cell_type": "markdown",
   "metadata": {},
   "source": [
    "All pairs have very high correlations, so let's choose the two days that have the lowest correlation. That is: the overnight feature for only Firday and Sunday will be included."
   ]
  },
  {
   "cell_type": "markdown",
   "metadata": {},
   "source": [
    "Additionally, we are also interested in how long a particular restaurant is open on these 4 sets of days. \n",
    "We plot a scatter plot based on the ratings and how long a restaurant is open. "
   ]
  },
  {
   "cell_type": "code",
   "execution_count": 55,
   "metadata": {},
   "outputs": [
    {
     "data": {
      "image/png": "[encoded data removed]",
      "text/plain": [
       "<Figure size 1080x936 with 4 Axes>"
      ]
     },
     "metadata": {},
     "output_type": "display_data"
    }
   ],
   "source": [
    "def scatterplot_duration(rating, df):\n",
    "    \"\"\"\n",
    "    Input: \n",
    "    - rating is the list of possible ratings\n",
    "    - df is the pandas dataframe containing the training data\n",
    "    \n",
    "    This function plots the bar chart of the ratings for each of the days (overnight or not)\n",
    "    \"\"\"\n",
    "    days = [\"fri\", \"sat\", \"sun\", \"wed\"]\n",
    "    i = 1\n",
    "    for day in days:\n",
    "        start_i = day + \"_start\"\n",
    "        end_i = day + \"_end\"\n",
    "        dur = day + \"_duration\"\n",
    "        plt.rcParams[\"figure.figsize\"] = [15,13]\n",
    "        plt.subplot(2, 2, i)\n",
    "        i += 1\n",
    "        plt.scatter(df.loc[:,dur], df.loc[:,\"rating\"], alpha = 0.1)\n",
    "        plt.yticks(rating, rating)\n",
    "        plt.ylabel(\"Rating\")\n",
    "        plt.xlabel(\"Number of Hours\")\n",
    "        plt.title(\"%s - Scatter Plot of Ratings vs Duration\" %day)\n",
    "    plt.show()\n",
    "    \n",
    "rating = np.linspace(1, 5, 9) \n",
    "scatterplot_duration(rating, training_features)"
   ]
  },
  {
   "cell_type": "markdown",
   "metadata": {},
   "source": [
    "The plots suggest different durations have different distributions of ratings. But again, let's examine correlations."
   ]
  },
  {
   "cell_type": "code",
   "execution_count": 56,
   "metadata": {},
   "outputs": [
    {
     "name": "stdout",
     "output_type": "stream",
     "text": [
      "fri_duration , sat_duration 0.8728789905702038\n",
      "fri_duration , sun_duration 0.7319737250459093\n",
      "fri_duration , wed_duration 0.9213760546059215\n",
      "sat_duration , sun_duration 0.8274143505290207\n",
      "sat_duration , wed_duration 0.7964842951750012\n",
      "sun_duration , wed_duration 0.7395079564290856\n"
     ]
    }
   ],
   "source": [
    "duration_vars = [\"fri_duration\", \"sat_duration\", \"sun_duration\", \"wed_duration\"]\n",
    "print_pcc(duration_vars, df=training_features)"
   ]
  },
  {
   "cell_type": "markdown",
   "metadata": {},
   "source": [
    "Again, all pairs have very high correlations, so let's choose the two days that have the lowest correlation. That is: the duration feature for only Firday and Sunday will be included."
   ]
  },
  {
   "cell_type": "markdown",
   "metadata": {},
   "source": [
    "### 6) Category"
   ]
  },
  {
   "cell_type": "markdown",
   "metadata": {},
   "source": [
    "<a id=\"step-4\"></a>\n",
    "\n",
    "## Part 4: Feature Engineering and Compression\n",
    "\n",
    "After our analyses on the raw features we obtained from the API, we can choose\n",
    "which features to use and how to use them."
   ]
  },
  {
   "cell_type": "code",
   "execution_count": 18,
   "metadata": {
    "collapsed": true
   },
   "outputs": [],
   "source": [
    "def one_hot_encode(labels):\n",
    "    \"\"\"\n",
    "    This function gives a one-hot encoding of the rating labels.\n",
    "    \n",
    "    @input labels: An array-like object of ratings.\n",
    "    @type labels: numpy.ndarray or list.\n",
    "    \n",
    "    @return: A one-hot encoding of the labels.\n",
    "    @rtype: numpy.ndarray.\n",
    "    \"\"\"\n",
    "    ratings = np.linspace(1, 5, 9)\n",
    "    return np.array([(r == ratings).astype(int) for r in labels])\n",
    "\n",
    "\n",
    "def compress_features(features):\n",
    "    \"\"\"\n",
    "    This function takes a feature dataframe and outputs a corresponding\n",
    "    numpy array of features.\n",
    "    \n",
    "    @input features: Dataframe of features.\n",
    "    @type features: pandas.DataFrame.\n",
    "    \n",
    "    @return: a design matrix of floats.\n",
    "    @rtype: numpy.ndarray of float.\n",
    "    \"\"\"\n",
    "    y = one_hot_encode(np.array(features['rating']))\n",
    "    X = np.array(features.drop(['rating'], axis=1)).astype(float)\n",
    "    return X, y\n",
    "\n",
    "X_train, y_train = compress_features(training_features)\n",
    "X_test, y_test = compress_features(test_features)"
   ]
  },
  {
   "cell_type": "markdown",
   "metadata": {},
   "source": [
    "<a id=\"step-5\"></a>\n",
    "\n",
    "## Part 5: Machine Learning Model Setup\n",
    "\n",
    "We need to construct a couple machine learning models for us to train to see which\n",
    "one gives us the best testing accuracy."
   ]
  },
  {
   "cell_type": "markdown",
   "metadata": {},
   "source": [
    "We will first build a neural network."
   ]
  },
  {
   "cell_type": "code",
   "execution_count": 19,
   "metadata": {
    "collapsed": true
   },
   "outputs": [],
   "source": [
    "class ANN(object):\n",
    "    \"\"\"\n",
    "    This is a neural network.\n",
    "    \"\"\"\n",
    "    def __init__(self, layers=[5, 5]):\n",
    "        self.layers = layers"
   ]
  },
  {
   "cell_type": "markdown",
   "metadata": {},
   "source": [
    "Now we will build a logistic regression classifier."
   ]
  },
  {
   "cell_type": "code",
   "execution_count": 20,
   "metadata": {
    "collapsed": true
   },
   "outputs": [],
   "source": [
    "class LogisticRegression(object):\n",
    "    \"\"\"\n",
    "    This is the logistic regression model.\n",
    "    \"\"\"\n",
    "    def __init__(self):\n",
    "        self.theta = np.zeros(100)"
   ]
  },
  {
   "cell_type": "markdown",
   "metadata": {},
   "source": [
    "<a id=\"step-6\"></a>\n",
    "\n",
    "## Part 6: Cross Validation\n",
    "\n",
    "Now we will use cross-validation to determine which model produces the highest\n",
    "validation accuracy for our dataset, then pick this model."
   ]
  },
  {
   "cell_type": "code",
   "execution_count": 21,
   "metadata": {
    "collapsed": true
   },
   "outputs": [],
   "source": [
    "def pick_model():\n",
    "    pass"
   ]
  },
  {
   "cell_type": "markdown",
   "metadata": {},
   "source": [
    "<a id=\"step-7\"></a>\n",
    "\n",
    "## Part 7: Prediction and Test Accuracy"
   ]
  },
  {
   "cell_type": "code",
   "execution_count": 22,
   "metadata": {
    "collapsed": true
   },
   "outputs": [],
   "source": [
    "def calculate_accuracy():\n",
    "    pass"
   ]
  },
  {
   "cell_type": "markdown",
   "metadata": {},
   "source": [
    "<a id=\"step-8\"></a>\n",
    "\n",
    "## Part 8: Final Analysis\n",
    "\n",
    "Our results were amazing, so yeah."
   ]
  }
 ],
 "metadata": {
  "kernelspec": {
   "display_name": "Python 3",
   "language": "python",
   "name": "python3"
  },
  "language_info": {
   "codemirror_mode": {
    "name": "ipython",
    "version": 3
   },
   "file_extension": ".py",
   "mimetype": "text/x-python",
   "name": "python",
   "nbconvert_exporter": "python",
   "pygments_lexer": "ipython3",
   "version": "3.5.5"
  }
 },
 "nbformat": 4,
 "nbformat_minor": 2
}
