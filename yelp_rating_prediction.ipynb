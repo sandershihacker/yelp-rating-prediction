{
 "cells": [
  {
   "cell_type": "markdown",
   "metadata": {},
   "source": [
    "# Yelp Restaurant Rating Prediction\n",
    "\n",
    "## Project Description\n",
    "The project goal is to explore New York City restaurants' features' influence on ratings, which\n",
    "range from 1.0 to 5.0 with 0.5 increments, and build machine learing models that attempt to predict\n",
    "Yelp ratings, given certain features of restaurants. Our motivation is to help determine how\n",
    "successful a new restaurant business might be, given business features of it. We will use the Yelp API to collect data on New York City restaurants.\n",
    "\n",
    "## Team Members\n",
    "Jun Hee Kim, Nikhil Rangarajan, Sander Shi\n",
    "\n",
    "## Procedure\n",
    "* [Data Collection from API](#step-1)\n",
    "* [Feature Extraction with Parsing](#step-2)\n",
    "* [Feature Analysis and Variable Selection](#step-3)\n",
    "* [Feature Engineering and Compression](#step-4)\n",
    "* [Machine Learning Model Setup](#step-5)\n",
    "* [Cross Validation and Model Selection](#step-6)\n",
    "* [Prediction and Test Accuracy](#step-7)\n",
    "* [Conclusion](#step-8)\n",
    "* [Credits](#step-9)"
   ]
  },
  {
   "cell_type": "markdown",
   "metadata": {},
   "source": [
    "## Part 0: Imports and Constants\n",
    "\n",
    "We use `pandas` to parse the data and then use `keras` and `scikit-learn` to construct the machine learning models. We use the Yelp API to gather the data. In order to use the Yelp API, we need to create an API key to use in our API requests."
   ]
  },
  {
   "cell_type": "code",
   "execution_count": 1,
   "metadata": {
    "collapsed": true
   },
   "outputs": [],
   "source": [
    "import numpy as np\n",
    "import pandas as pd\n",
    "import requests\n",
    "import json\n",
    "import time\n",
    "import pickle\n",
    "import matplotlib.pyplot as plt\n",
    "%matplotlib inline\n",
    "from keras.models import Sequential\n",
    "from keras.layers import Dense, BatchNormalization\n",
    "from collections import Counter\n",
    "import scipy.stats as stats\n",
    "from sklearn.linear_model import Ridge, LogisticRegression\n",
    "from sklearn.preprocessing import PolynomialFeatures\n",
    "from sklearn.svm import SVC\n",
    "\n",
    "API_URL = \"https://api.yelp.com/v3/businesses\"\n",
    "SEARCH_URL = API_URL + \"/search\"\n",
    "RESTAURANT_IDS = \"rid.pkl\"\n",
    "ZIPCODE_BOROUGH_DICT = np.load('zipcode_borough_dict.npy').item()\n",
    "\n",
    "with open(\"./API_KEY\", 'r') as f:\n",
    "    api_key = f.readline().strip()\n",
    "API_HEADERS = {\n",
    "    'Authorization': ' '.join(['Bearer', api_key])\n",
    "}"
   ]
  },
  {
   "cell_type": "markdown",
   "metadata": {},
   "source": [
    "<a id=\"step-1\"></a>\n",
    "\n",
    "## Part 1: Data Collection from API\n",
    "\n",
    "Here we use the Yelp API to gather restaurant pages, then extract information using business search API requests."
   ]
  },
  {
   "cell_type": "markdown",
   "metadata": {},
   "source": [
    "Since the Yelp API only allows us to load business information from up to 1000\n",
    "distinct businesses on each search, we first get the categories of the\n",
    "restaurants, then perform a search query for each category."
   ]
  },
  {
   "cell_type": "code",
   "execution_count": 2,
   "metadata": {
    "collapsed": true
   },
   "outputs": [],
   "source": [
    "def get_restaurant_categories(url):\n",
    "    \"\"\"\n",
    "    This function gets all restaurant categories.\n",
    "    \n",
    "    @input url: URL to json file containing restaurant categories.\n",
    "    @type url: String.\n",
    "    \n",
    "    @return: List of restaurant categories.\n",
    "    @rtype: List of String\n",
    "    \"\"\"\n",
    "    cats = json.load(open(url))\n",
    "    return [cat['alias'] for cat in cats if 'restaurants' in cat['parents']]\n",
    "\n",
    "categories = get_restaurant_categories('categories.json')\n",
    "category_dict = {k: v for v, k in enumerate(categories)}"
   ]
  },
  {
   "cell_type": "markdown",
   "metadata": {},
   "source": [
    "To aid feature creation for categories, we write a function that maps every category\n",
    "to a number."
   ]
  },
  {
   "cell_type": "code",
   "execution_count": 3,
   "metadata": {
    "collapsed": false
   },
   "outputs": [
    {
     "data": {
      "text/plain": [
       "92"
      ]
     },
     "execution_count": 3,
     "metadata": {},
     "output_type": "execute_result"
    }
   ],
   "source": [
    "def cat2num(category):\n",
    "    \"\"\"\n",
    "    This function maps each category to a natural number to aid feature creation.\n",
    "    \n",
    "    @input category: A category.\n",
    "    @type category: String.\n",
    "    \n",
    "    @return: An integer that the category is mapped to.\n",
    "    @rtype: Integer.\n",
    "    \"\"\"\n",
    "    return category_dict.get(category, (len(category_dict) + 1))\n",
    "\n",
    "cat2num(\"italian\")"
   ]
  },
  {
   "cell_type": "markdown",
   "metadata": {},
   "source": [
    "Now that we have the restaurant categories, we write a function to find all\n",
    "restaurant IDs, and create a Pandas DataFrame."
   ]
  },
  {
   "cell_type": "code",
   "execution_count": 4,
   "metadata": {
    "collapsed": false,
    "scrolled": false
   },
   "outputs": [
    {
     "data": {
      "text/html": [
       "<div>\n",
       "<style scoped>\n",
       "    .dataframe tbody tr th:only-of-type {\n",
       "        vertical-align: middle;\n",
       "    }\n",
       "\n",
       "    .dataframe tbody tr th {\n",
       "        vertical-align: top;\n",
       "    }\n",
       "\n",
       "    .dataframe thead th {\n",
       "        text-align: right;\n",
       "    }\n",
       "</style>\n",
       "<table border=\"1\" class=\"dataframe\">\n",
       "  <thead>\n",
       "    <tr style=\"text-align: right;\">\n",
       "      <th></th>\n",
       "      <th>id</th>\n",
       "    </tr>\n",
       "  </thead>\n",
       "  <tbody>\n",
       "    <tr>\n",
       "      <th>16076</th>\n",
       "      <td>kOFUrzoQPW6F0Bqllz5lpg</td>\n",
       "    </tr>\n",
       "    <tr>\n",
       "      <th>16077</th>\n",
       "      <td>bHQbqSRY8FDp7fQXPPzx1g</td>\n",
       "    </tr>\n",
       "    <tr>\n",
       "      <th>16078</th>\n",
       "      <td>s2xONRCHI08MISGZXzqBhA</td>\n",
       "    </tr>\n",
       "    <tr>\n",
       "      <th>16079</th>\n",
       "      <td>cevkTGf4vX_IBU_bGlz9ww</td>\n",
       "    </tr>\n",
       "    <tr>\n",
       "      <th>16080</th>\n",
       "      <td>MV39gToOLxzRdfuzzt-kUA</td>\n",
       "    </tr>\n",
       "  </tbody>\n",
       "</table>\n",
       "</div>"
      ],
      "text/plain": [
       "                           id\n",
       "16076  kOFUrzoQPW6F0Bqllz5lpg\n",
       "16077  bHQbqSRY8FDp7fQXPPzx1g\n",
       "16078  s2xONRCHI08MISGZXzqBhA\n",
       "16079  cevkTGf4vX_IBU_bGlz9ww\n",
       "16080  MV39gToOLxzRdfuzzt-kUA"
      ]
     },
     "execution_count": 4,
     "metadata": {},
     "output_type": "execute_result"
    }
   ],
   "source": [
    "def get_req_json(url, params=None):\n",
    "    \"\"\"\n",
    "    This function is a wrapper for a get request to the API.\n",
    "    \n",
    "    @input url: The API url.\n",
    "    @type url: String.\n",
    "    @input params: The parameters to pass to the get request.\n",
    "    @type params: Dict.\n",
    "    \n",
    "    @return: A json response.\n",
    "    @rtype: JSON\n",
    "    \"\"\"\n",
    "    response = requests.get(url=url, headers=API_HEADERS, params=params)\n",
    "    return response.json()\n",
    "\n",
    "\n",
    "def find_restaurants(url, categories):\n",
    "    \"\"\"\n",
    "    This function loads all restaurant data from restaurants in NYC.\n",
    "    \n",
    "    @input url: The API url.\n",
    "    @type url: String.\n",
    "    @input categories: The restaurant categories.\n",
    "    @type categories: List of String.\n",
    "    \n",
    "    @return: A Pandas DataFrame containing the restaurant IDs.\n",
    "    @rtype: pandas.DataFrame.\n",
    "    \"\"\"\n",
    "    restaurants = []\n",
    "    for cat in categories:\n",
    "        params = {\n",
    "            'term': 'restaurants',\n",
    "            'location': 'NYC',\n",
    "            'categories': cat\n",
    "        }\n",
    "        content = get_req_json(url, params)\n",
    "        total = min(1000, content['total'])\n",
    "        i = 0\n",
    "        while i < total:\n",
    "            limit = min(50, total - i)\n",
    "            params['limit'] = limit\n",
    "            params['offset'] = i\n",
    "            content = get_req_json(url, params)\n",
    "            restaurants.extend([b['id'] for b in content['businesses']])\n",
    "            i += limit\n",
    "    return pd.DataFrame({'id': list(set(restaurants))})\n",
    "\n",
    "# Uncomment the following lines to get the restaurant IDs and recreate the pickle file.\n",
    "# restaurants = find_restaurants(SEARCH_URL, categories)\n",
    "# pickle.dump(restaurants, open(RESTAURANT_IDS, \"wb\"))\n",
    "\n",
    "# Load restaurant IDs from pickle file\n",
    "restaurant_ids = pickle.load(open(RESTAURANT_IDS, 'rb'))\n",
    "restaurant_ids.tail()"
   ]
  },
  {
   "cell_type": "markdown",
   "metadata": {},
   "source": [
    "<a id=\"step-2\"></a>\n",
    "\n",
    "## Part 2: Feature Extraction with Parsing\n",
    "\n",
    "Now that we have all the restaurant ids, in this step we do a business lookup\n",
    "to get the specific data of the restaurants."
   ]
  },
  {
   "cell_type": "code",
   "execution_count": 5,
   "metadata": {
    "collapsed": false
   },
   "outputs": [
    {
     "data": {
      "text/plain": [
       "{'id': 'UTNSUIY2QW6RYNa0xLa9gg',\n",
       " 'alias': 'new-pizza-professor-brooklyn-brooklyn',\n",
       " 'name': 'New Pizza Professor - Brooklyn',\n",
       " 'image_url': 'https://s3-media2.fl.yelpcdn.com/bphoto/zpkQadE2UF3DjvOBUHF9PA/o.jpg',\n",
       " 'is_claimed': True,\n",
       " 'is_closed': False,\n",
       " 'url': 'https://www.yelp.com/biz/new-pizza-professor-brooklyn-brooklyn?adjust_creative=ZAj1bx8bJHOcikvnMXVxEg&utm_campaign=yelp_api_v3&utm_medium=api_v3_business_lookup&utm_source=ZAj1bx8bJHOcikvnMXVxEg',\n",
       " 'phone': '+13475874277',\n",
       " 'display_phone': '(347) 587-4277',\n",
       " 'review_count': 16,\n",
       " 'categories': [{'alias': 'pizza', 'title': 'Pizza'},\n",
       "  {'alias': 'kosher', 'title': 'Kosher'}],\n",
       " 'rating': 2.5,\n",
       " 'location': {'address1': '1824 Avenue M',\n",
       "  'address2': '',\n",
       "  'address3': None,\n",
       "  'city': 'Brooklyn',\n",
       "  'zip_code': '11230',\n",
       "  'country': 'US',\n",
       "  'state': 'NY',\n",
       "  'display_address': ['1824 Avenue M', 'Brooklyn, NY 11230'],\n",
       "  'cross_streets': '19th St & Bay Ave'},\n",
       " 'coordinates': {'latitude': 40.6184002, 'longitude': -73.9564177},\n",
       " 'photos': ['https://s3-media2.fl.yelpcdn.com/bphoto/zpkQadE2UF3DjvOBUHF9PA/o.jpg',\n",
       "  'https://s3-media4.fl.yelpcdn.com/bphoto/wTJKgZg2jvAbFjyxrKpfNg/o.jpg',\n",
       "  'https://s3-media2.fl.yelpcdn.com/bphoto/Mk5_1qxJEvgbhHoXlhsG9g/o.jpg'],\n",
       " 'hours': [{'open': [{'is_overnight': True,\n",
       "     'start': '1100',\n",
       "     'end': '0200',\n",
       "     'day': 0},\n",
       "    {'is_overnight': True, 'start': '1100', 'end': '0200', 'day': 1},\n",
       "    {'is_overnight': True, 'start': '1100', 'end': '0200', 'day': 2},\n",
       "    {'is_overnight': True, 'start': '1100', 'end': '0200', 'day': 3},\n",
       "    {'is_overnight': False, 'start': '1100', 'end': '1445', 'day': 4},\n",
       "    {'is_overnight': True, 'start': '2030', 'end': '0300', 'day': 5},\n",
       "    {'is_overnight': True, 'start': '1100', 'end': '0200', 'day': 6}],\n",
       "   'hours_type': 'REGULAR',\n",
       "   'is_open_now': False}],\n",
       " 'transactions': ['delivery', 'pickup']}"
      ]
     },
     "execution_count": 5,
     "metadata": {},
     "output_type": "execute_result"
    }
   ],
   "source": [
    "def get_data(rids, api_url):\n",
    "    \"\"\"\n",
    "    This function uses the Yelp business lookup API to get all data from each\n",
    "    restaurant.\n",
    "    \n",
    "    @input api_url: The API url.\n",
    "    @type api_url: String.\n",
    "    @input rids: The dataframe containing all restaurant IDs.\n",
    "    @type rids: pandas.DataFrame.\n",
    "    \n",
    "    @return: A list of restaurant information.\n",
    "    @rtype: List of Json Object.\n",
    "    \"\"\"\n",
    "    info = []\n",
    "    for idx, rid in rids.iterrows():\n",
    "        url = \"/\".join([api_url, rid['id']])\n",
    "        content = get_req_json(url)\n",
    "        info.append(content)\n",
    "    return info\n",
    "\n",
    "# Uncomment the following two lines to get the data from the API and save to pickle.\n",
    "# all_data = get_data(restaurant_ids, API_URL)\n",
    "# pickle.dump(all_data, open(\"restaurant_data.pkl\", \"wb\"))\n",
    "\n",
    "# Load all restaurant data from pickle file.\n",
    "all_data = pickle.load(open(\"restaurant_data.pkl\", 'rb'))\n",
    "all_data[0]"
   ]
  },
  {
   "cell_type": "markdown",
   "metadata": {},
   "source": [
    "Using the data that we obtained from the API, we extract useful information from it to build\n",
    "a dataframe of features."
   ]
  },
  {
   "cell_type": "code",
   "execution_count": 6,
   "metadata": {
    "collapsed": false,
    "scrolled": false
   },
   "outputs": [
    {
     "data": {
      "text/html": [
       "<div>\n",
       "<style scoped>\n",
       "    .dataframe tbody tr th:only-of-type {\n",
       "        vertical-align: middle;\n",
       "    }\n",
       "\n",
       "    .dataframe tbody tr th {\n",
       "        vertical-align: top;\n",
       "    }\n",
       "\n",
       "    .dataframe thead th {\n",
       "        text-align: right;\n",
       "    }\n",
       "</style>\n",
       "<table border=\"1\" class=\"dataframe\">\n",
       "  <thead>\n",
       "    <tr style=\"text-align: right;\">\n",
       "      <th></th>\n",
       "      <th>category</th>\n",
       "      <th>delivery</th>\n",
       "      <th>fri_end</th>\n",
       "      <th>fri_is_overnight</th>\n",
       "      <th>fri_start</th>\n",
       "      <th>is_claimed</th>\n",
       "      <th>pickup</th>\n",
       "      <th>price</th>\n",
       "      <th>rating</th>\n",
       "      <th>restaurant_reservation</th>\n",
       "      <th>sat_end</th>\n",
       "      <th>sat_is_overnight</th>\n",
       "      <th>sat_start</th>\n",
       "      <th>sun_end</th>\n",
       "      <th>sun_is_overnight</th>\n",
       "      <th>sun_start</th>\n",
       "      <th>wed_end</th>\n",
       "      <th>wed_is_overnight</th>\n",
       "      <th>wed_start</th>\n",
       "      <th>zip_code</th>\n",
       "    </tr>\n",
       "  </thead>\n",
       "  <tbody>\n",
       "    <tr>\n",
       "      <th>16071</th>\n",
       "      <td>{191}</td>\n",
       "      <td>0</td>\n",
       "      <td>2300</td>\n",
       "      <td>0</td>\n",
       "      <td>1100</td>\n",
       "      <td>0</td>\n",
       "      <td>0</td>\n",
       "      <td>2</td>\n",
       "      <td>3.5</td>\n",
       "      <td>0</td>\n",
       "      <td>2300</td>\n",
       "      <td>0</td>\n",
       "      <td>1100</td>\n",
       "      <td>2300</td>\n",
       "      <td>0</td>\n",
       "      <td>1100</td>\n",
       "      <td>2300</td>\n",
       "      <td>0</td>\n",
       "      <td>1100</td>\n",
       "      <td>11368</td>\n",
       "    </tr>\n",
       "    <tr>\n",
       "      <th>16072</th>\n",
       "      <td>{161, 114, 191}</td>\n",
       "      <td>0</td>\n",
       "      <td>1800</td>\n",
       "      <td>0</td>\n",
       "      <td>1200</td>\n",
       "      <td>0</td>\n",
       "      <td>0</td>\n",
       "      <td>2</td>\n",
       "      <td>3.0</td>\n",
       "      <td>0</td>\n",
       "      <td>1800</td>\n",
       "      <td>0</td>\n",
       "      <td>1200</td>\n",
       "      <td>1800</td>\n",
       "      <td>0</td>\n",
       "      <td>1200</td>\n",
       "      <td>1800</td>\n",
       "      <td>0</td>\n",
       "      <td>1200</td>\n",
       "      <td>10036</td>\n",
       "    </tr>\n",
       "    <tr>\n",
       "      <th>16073</th>\n",
       "      <td>{51, 23, 191}</td>\n",
       "      <td>1</td>\n",
       "      <td>2400</td>\n",
       "      <td>1</td>\n",
       "      <td>0000</td>\n",
       "      <td>0</td>\n",
       "      <td>1</td>\n",
       "      <td>2</td>\n",
       "      <td>3.0</td>\n",
       "      <td>0</td>\n",
       "      <td>2400</td>\n",
       "      <td>1</td>\n",
       "      <td>0000</td>\n",
       "      <td>2400</td>\n",
       "      <td>1</td>\n",
       "      <td>0000</td>\n",
       "      <td>2400</td>\n",
       "      <td>1</td>\n",
       "      <td>0000</td>\n",
       "      <td>11201</td>\n",
       "    </tr>\n",
       "    <tr>\n",
       "      <th>16074</th>\n",
       "      <td>{164, 93}</td>\n",
       "      <td>1</td>\n",
       "      <td>1800</td>\n",
       "      <td>0</td>\n",
       "      <td>1200</td>\n",
       "      <td>0</td>\n",
       "      <td>1</td>\n",
       "      <td>2</td>\n",
       "      <td>3.5</td>\n",
       "      <td>0</td>\n",
       "      <td>1800</td>\n",
       "      <td>0</td>\n",
       "      <td>1200</td>\n",
       "      <td>1800</td>\n",
       "      <td>0</td>\n",
       "      <td>1200</td>\n",
       "      <td>1800</td>\n",
       "      <td>0</td>\n",
       "      <td>1200</td>\n",
       "      <td>07030</td>\n",
       "    </tr>\n",
       "    <tr>\n",
       "      <th>16075</th>\n",
       "      <td>{37}</td>\n",
       "      <td>1</td>\n",
       "      <td>2045</td>\n",
       "      <td>0</td>\n",
       "      <td>1200</td>\n",
       "      <td>1</td>\n",
       "      <td>1</td>\n",
       "      <td>0</td>\n",
       "      <td>4.5</td>\n",
       "      <td>0</td>\n",
       "      <td>2045</td>\n",
       "      <td>0</td>\n",
       "      <td>1200</td>\n",
       "      <td>2045</td>\n",
       "      <td>0</td>\n",
       "      <td>1200</td>\n",
       "      <td>2045</td>\n",
       "      <td>0</td>\n",
       "      <td>1200</td>\n",
       "      <td>10029</td>\n",
       "    </tr>\n",
       "  </tbody>\n",
       "</table>\n",
       "</div>"
      ],
      "text/plain": [
       "              category  delivery fri_end  fri_is_overnight fri_start  \\\n",
       "16071            {191}         0    2300                 0      1100   \n",
       "16072  {161, 114, 191}         0    1800                 0      1200   \n",
       "16073    {51, 23, 191}         1    2400                 1      0000   \n",
       "16074        {164, 93}         1    1800                 0      1200   \n",
       "16075             {37}         1    2045                 0      1200   \n",
       "\n",
       "       is_claimed  pickup  price  rating  restaurant_reservation sat_end  \\\n",
       "16071           0       0      2     3.5                       0    2300   \n",
       "16072           0       0      2     3.0                       0    1800   \n",
       "16073           0       1      2     3.0                       0    2400   \n",
       "16074           0       1      2     3.5                       0    1800   \n",
       "16075           1       1      0     4.5                       0    2045   \n",
       "\n",
       "       sat_is_overnight sat_start sun_end  sun_is_overnight sun_start wed_end  \\\n",
       "16071                 0      1100    2300                 0      1100    2300   \n",
       "16072                 0      1200    1800                 0      1200    1800   \n",
       "16073                 1      0000    2400                 1      0000    2400   \n",
       "16074                 0      1200    1800                 0      1200    1800   \n",
       "16075                 0      1200    2045                 0      1200    2045   \n",
       "\n",
       "       wed_is_overnight wed_start zip_code  \n",
       "16071                 0      1100    11368  \n",
       "16072                 0      1200    10036  \n",
       "16073                 1      0000    11201  \n",
       "16074                 0      1200    07030  \n",
       "16075                 0      1200    10029  "
      ]
     },
     "execution_count": 6,
     "metadata": {},
     "output_type": "execute_result"
    }
   ],
   "source": [
    "def extract_features(data):\n",
    "    \"\"\"\n",
    "    This function creates a dataframe of features given a list of restaurant data.\n",
    "    \n",
    "    @input data: A list of restaurant data obtained from the Yelp API.\n",
    "    @type api_url: List of JSON Object.\n",
    "    \n",
    "    @return: A Pandas DataFrame containing the restaurant features.\n",
    "    @rtype: pandas.DataFrame.\n",
    "    \"\"\"\n",
    "    prices, ratings, pickups, deliveries= [], [], [], []\n",
    "    reservations, is_claimed, zipcodes, categories = [], [], [], []\n",
    "    days = [2, 4, 5, 6]\n",
    "    hours = dict()\n",
    "    for day in days:\n",
    "        hours[day] = []\n",
    "    for content in (x for x in data if 'error' not in x):\n",
    "        prices.append(len(content.get('price', \"\")))\n",
    "        ratings.append(float(content.get('rating', 0)))\n",
    "        transactions = content.get('transactions', [])\n",
    "        pickups.append(int(\"pickup\" in transactions))\n",
    "        deliveries.append(int(\"delivery\" in transactions))\n",
    "        reservations.append(int(\"restaurant_reservation\" in transactions))\n",
    "        is_claimed.append(int(content.get('is_claimed', False)))\n",
    "        if ('location' not in content) or ('zip_code' not in content['location']):\n",
    "            zipcodes.append('00000')\n",
    "        else:\n",
    "            zc = content['location'].get('zip_code', '00000')\n",
    "            zipcodes.append(zc if zc != '' else '00000')\n",
    "        for day in days:\n",
    "            if \"hours\" in content:\n",
    "                open_hours = content[\"hours\"][0][\"open\"]\n",
    "                stats = [h for h in open_hours if h['day'] == day]\n",
    "                is_overnight = int(True in [h['is_overnight'] for h in stats])\n",
    "                start = min([h['start'] for h in stats], default='0000')\n",
    "                end = max([h['end'] if h['end'] != '0000' else '2400' for h in stats], default='0000')\n",
    "                hours[day].append([is_overnight, start, end])\n",
    "            else:\n",
    "                hours[day].append([0, '1200', '1800'])\n",
    "        cat_list = [cat2num(c['alias']) for c in content['categories']]\n",
    "        categories.append(set(cat_list))\n",
    "        \n",
    "    for day in days:\n",
    "        hours[day] = np.array(hours[day])\n",
    "        \n",
    "    df_dict = {\n",
    "        'price': prices,\n",
    "        'category': categories,\n",
    "        'pickup': pickups,\n",
    "        'delivery': deliveries,\n",
    "        'restaurant_reservation': reservations,\n",
    "        'is_claimed': is_claimed,\n",
    "        'zip_code': zipcodes,\n",
    "        'rating': ratings,\n",
    "        'wed_is_overnight': hours[2][:, 0].astype(int),\n",
    "        'fri_is_overnight': hours[4][:, 0].astype(int),\n",
    "        'sat_is_overnight': hours[5][:, 0].astype(int),\n",
    "        'sun_is_overnight': hours[6][:, 0].astype(int),\n",
    "        'wed_start': hours[2][:, 1],\n",
    "        'fri_start': hours[4][:, 1],\n",
    "        'sat_start': hours[5][:, 1],\n",
    "        'sun_start': hours[6][:, 1],\n",
    "        'wed_end': hours[2][:, 2],\n",
    "        'fri_end': hours[4][:, 2],\n",
    "        'sat_end': hours[5][:, 2],\n",
    "        'sun_end': hours[6][:, 2]\n",
    "    }\n",
    "    return pd.DataFrame(df_dict).dropna(axis=0, how='any')\n",
    "\n",
    "# Extract features from the loaded restaurant data\n",
    "labeled_features = extract_features(all_data)\n",
    "labeled_features.tail()"
   ]
  },
  {
   "cell_type": "markdown",
   "metadata": {},
   "source": [
    "We have all the features of our restaurants now, so it is time to split it into\n",
    "a training set for analysis and training and a test set for testing the accuracy."
   ]
  },
  {
   "cell_type": "code",
   "execution_count": 7,
   "metadata": {
    "collapsed": false
   },
   "outputs": [
    {
     "data": {
      "text/html": [
       "<div>\n",
       "<style scoped>\n",
       "    .dataframe tbody tr th:only-of-type {\n",
       "        vertical-align: middle;\n",
       "    }\n",
       "\n",
       "    .dataframe tbody tr th {\n",
       "        vertical-align: top;\n",
       "    }\n",
       "\n",
       "    .dataframe thead th {\n",
       "        text-align: right;\n",
       "    }\n",
       "</style>\n",
       "<table border=\"1\" class=\"dataframe\">\n",
       "  <thead>\n",
       "    <tr style=\"text-align: right;\">\n",
       "      <th></th>\n",
       "      <th>category</th>\n",
       "      <th>delivery</th>\n",
       "      <th>fri_end</th>\n",
       "      <th>fri_is_overnight</th>\n",
       "      <th>fri_start</th>\n",
       "      <th>is_claimed</th>\n",
       "      <th>pickup</th>\n",
       "      <th>price</th>\n",
       "      <th>rating</th>\n",
       "      <th>restaurant_reservation</th>\n",
       "      <th>sat_end</th>\n",
       "      <th>sat_is_overnight</th>\n",
       "      <th>sat_start</th>\n",
       "      <th>sun_end</th>\n",
       "      <th>sun_is_overnight</th>\n",
       "      <th>sun_start</th>\n",
       "      <th>wed_end</th>\n",
       "      <th>wed_is_overnight</th>\n",
       "      <th>wed_start</th>\n",
       "      <th>zip_code</th>\n",
       "    </tr>\n",
       "  </thead>\n",
       "  <tbody>\n",
       "    <tr>\n",
       "      <th>12855</th>\n",
       "      <td>{146, 147, 133}</td>\n",
       "      <td>1</td>\n",
       "      <td>0200</td>\n",
       "      <td>1</td>\n",
       "      <td>1130</td>\n",
       "      <td>1</td>\n",
       "      <td>1</td>\n",
       "      <td>1</td>\n",
       "      <td>4.0</td>\n",
       "      <td>0</td>\n",
       "      <td>0200</td>\n",
       "      <td>1</td>\n",
       "      <td>1130</td>\n",
       "      <td>2300</td>\n",
       "      <td>0</td>\n",
       "      <td>1130</td>\n",
       "      <td>2400</td>\n",
       "      <td>0</td>\n",
       "      <td>1130</td>\n",
       "      <td>10009</td>\n",
       "    </tr>\n",
       "    <tr>\n",
       "      <th>12856</th>\n",
       "      <td>{51, 23}</td>\n",
       "      <td>1</td>\n",
       "      <td>2100</td>\n",
       "      <td>0</td>\n",
       "      <td>0600</td>\n",
       "      <td>1</td>\n",
       "      <td>1</td>\n",
       "      <td>1</td>\n",
       "      <td>3.0</td>\n",
       "      <td>0</td>\n",
       "      <td>2100</td>\n",
       "      <td>0</td>\n",
       "      <td>0600</td>\n",
       "      <td>1800</td>\n",
       "      <td>0</td>\n",
       "      <td>0600</td>\n",
       "      <td>2100</td>\n",
       "      <td>0</td>\n",
       "      <td>0600</td>\n",
       "      <td>10002</td>\n",
       "    </tr>\n",
       "    <tr>\n",
       "      <th>12857</th>\n",
       "      <td>{29, 191}</td>\n",
       "      <td>1</td>\n",
       "      <td>2000</td>\n",
       "      <td>0</td>\n",
       "      <td>0800</td>\n",
       "      <td>1</td>\n",
       "      <td>1</td>\n",
       "      <td>1</td>\n",
       "      <td>4.5</td>\n",
       "      <td>0</td>\n",
       "      <td>2000</td>\n",
       "      <td>0</td>\n",
       "      <td>0900</td>\n",
       "      <td>2000</td>\n",
       "      <td>0</td>\n",
       "      <td>0900</td>\n",
       "      <td>2000</td>\n",
       "      <td>0</td>\n",
       "      <td>0800</td>\n",
       "      <td>11102</td>\n",
       "    </tr>\n",
       "    <tr>\n",
       "      <th>12858</th>\n",
       "      <td>{107, 174}</td>\n",
       "      <td>1</td>\n",
       "      <td>1800</td>\n",
       "      <td>0</td>\n",
       "      <td>1200</td>\n",
       "      <td>0</td>\n",
       "      <td>1</td>\n",
       "      <td>1</td>\n",
       "      <td>2.0</td>\n",
       "      <td>0</td>\n",
       "      <td>1800</td>\n",
       "      <td>0</td>\n",
       "      <td>1200</td>\n",
       "      <td>1800</td>\n",
       "      <td>0</td>\n",
       "      <td>1200</td>\n",
       "      <td>1800</td>\n",
       "      <td>0</td>\n",
       "      <td>1200</td>\n",
       "      <td>10010</td>\n",
       "    </tr>\n",
       "    <tr>\n",
       "      <th>12859</th>\n",
       "      <td>{50}</td>\n",
       "      <td>0</td>\n",
       "      <td>1800</td>\n",
       "      <td>0</td>\n",
       "      <td>1200</td>\n",
       "      <td>0</td>\n",
       "      <td>0</td>\n",
       "      <td>1</td>\n",
       "      <td>3.0</td>\n",
       "      <td>0</td>\n",
       "      <td>1800</td>\n",
       "      <td>0</td>\n",
       "      <td>1200</td>\n",
       "      <td>1800</td>\n",
       "      <td>0</td>\n",
       "      <td>1200</td>\n",
       "      <td>1800</td>\n",
       "      <td>0</td>\n",
       "      <td>1200</td>\n",
       "      <td>10002</td>\n",
       "    </tr>\n",
       "  </tbody>\n",
       "</table>\n",
       "</div>"
      ],
      "text/plain": [
       "              category  delivery fri_end  fri_is_overnight fri_start  \\\n",
       "12855  {146, 147, 133}         1    0200                 1      1130   \n",
       "12856         {51, 23}         1    2100                 0      0600   \n",
       "12857        {29, 191}         1    2000                 0      0800   \n",
       "12858       {107, 174}         1    1800                 0      1200   \n",
       "12859             {50}         0    1800                 0      1200   \n",
       "\n",
       "       is_claimed  pickup  price  rating  restaurant_reservation sat_end  \\\n",
       "12855           1       1      1     4.0                       0    0200   \n",
       "12856           1       1      1     3.0                       0    2100   \n",
       "12857           1       1      1     4.5                       0    2000   \n",
       "12858           0       1      1     2.0                       0    1800   \n",
       "12859           0       0      1     3.0                       0    1800   \n",
       "\n",
       "       sat_is_overnight sat_start sun_end  sun_is_overnight sun_start wed_end  \\\n",
       "12855                 1      1130    2300                 0      1130    2400   \n",
       "12856                 0      0600    1800                 0      0600    2100   \n",
       "12857                 0      0900    2000                 0      0900    2000   \n",
       "12858                 0      1200    1800                 0      1200    1800   \n",
       "12859                 0      1200    1800                 0      1200    1800   \n",
       "\n",
       "       wed_is_overnight wed_start zip_code  \n",
       "12855                 0      1130    10009  \n",
       "12856                 0      0600    10002  \n",
       "12857                 0      0800    11102  \n",
       "12858                 0      1200    10010  \n",
       "12859                 0      1200    10002  "
      ]
     },
     "execution_count": 7,
     "metadata": {},
     "output_type": "execute_result"
    }
   ],
   "source": [
    "def split_set(features, p_train=0.8):\n",
    "    \"\"\"\n",
    "    This function splits all the data into a training set and a test set.\n",
    "    \n",
    "    @input features: The feature dataframe.\n",
    "    @type features: pandas.DataFrame.\n",
    "    @input p_train: The percentage of training data.\n",
    "    @type p_train: Float.\n",
    "    \n",
    "    @return: Tuple of training and test set.\n",
    "    @rtype: Tuple of pandas.DataFrame.\n",
    "    \"\"\"\n",
    "    n = len(features)\n",
    "    num_training = int(n * p_train)\n",
    "    indices_perm = np.random.permutation(n)\n",
    "    training_ind = indices_perm[:num_training]\n",
    "    test_ind = indices_perm[num_training + 1:]\n",
    "    training = features.iloc[training_ind]\n",
    "    test = features.iloc[test_ind]\n",
    "    return training.reset_index(drop=True), test.reset_index(drop=True)\n",
    "\n",
    "training_features, test_features = split_set(labeled_features)\n",
    "training_features.tail()"
   ]
  },
  {
   "cell_type": "markdown",
   "metadata": {},
   "source": [
    "<a id=\"step-3\"></a>\n",
    "\n",
    "## Part 3: Feature Analysis and Variable Selection\n",
    "\n",
    "Now that we have the features, we separately analyze them and see how each feature contributes to the rating."
   ]
  },
  {
   "cell_type": "markdown",
   "metadata": {},
   "source": [
    "### 1) Price\n",
    "There are four levels (1, 2, 3, or 4) in price. Let's plot the frequency distribution of ratings for each price level to see if they differ alot, and then run an one-way ANOVA test to see if the population means of the ratings are different for at least two price levels."
   ]
  },
  {
   "cell_type": "code",
   "execution_count": 8,
   "metadata": {
    "collapsed": false
   },
   "outputs": [
    {
     "data": {
      "image/png": "[encoded data removed]",
      "text/plain": [
       "<Figure size 864x576 with 4 Axes>"
      ]
     },
     "metadata": {},
     "output_type": "display_data"
    }
   ],
   "source": [
    "plt.rcParams[\"figure.figsize\"] = [12,8]\n",
    "\n",
    "def barplot_each_price(price_levels, rating, df, yaxis_same_range):\n",
    "    \"\"\"\n",
    "    Input: \n",
    "    - price_levels is the list of possible price levels\n",
    "    - rating is the list of possible ratings\n",
    "    - df is the pandas dataframe containing the data\n",
    "    \n",
    "    This function plots the bar chart of the ratings for each of the price levels\n",
    "    \"\"\"\n",
    "    for i in price_levels:\n",
    "        price = i\n",
    "        # ratings with this price level\n",
    "        this_price_df = df.loc[df['price']==price]\n",
    "        data = this_price_df['rating']\n",
    "        counter = Counter(data)\n",
    "        freq = [counter[rate] for rate in rating]\n",
    "        plt.subplot(2,2,i)\n",
    "        plt.subplots_adjust(hspace=0.4, wspace=0.4)\n",
    "        plt.bar(rating, freq, width=0.2)\n",
    "        plt.xlabel(\"Rating\")\n",
    "        plt.ylabel(\"Frequency\")\n",
    "        if (yaxis_same_range==True):\n",
    "            plt.ylim(ymin=0, ymax=2500)\n",
    "        plt.xticks(rating, rating)\n",
    "        plt.title(\"Price Level: %s\"%price)\n",
    "    plt.show()\n",
    "\n",
    "barplot_each_price(price_levels=[1,2,3,4], rating=np.linspace(1, 5, 9), df=training_features, yaxis_same_range=True)"
   ]
  },
  {
   "cell_type": "markdown",
   "metadata": {},
   "source": [
    "We've set the y-axis range to be the same for all four subplots so that visually comparing becomes easier. The shapes of the rating frequencies appear very different. But such a visual impression might be due to the number of restaurants being so different for each price level rather than the distributions being different. In fact, the shapes don't differ too much if we don't restrict the y-axis ranges to be same across all subplots."
   ]
  },
  {
   "cell_type": "code",
   "execution_count": 9,
   "metadata": {
    "collapsed": false
   },
   "outputs": [
    {
     "data": {
      "image/png": "[encoded data removed]",
      "text/plain": [
       "<Figure size 864x576 with 4 Axes>"
      ]
     },
     "metadata": {},
     "output_type": "display_data"
    }
   ],
   "source": [
    "# Same plots, but we don't restrict y-axis ranges to be same\n",
    "barplot_each_price(price_levels=[1,2,3,4], rating=np.linspace(1, 5, 9), df=training_features, yaxis_same_range=False)"
   ]
  },
  {
   "cell_type": "markdown",
   "metadata": {},
   "source": [
    "So let's perform ANOVA to yield some formal conclusion."
   ]
  },
  {
   "cell_type": "code",
   "execution_count": 10,
   "metadata": {
    "collapsed": false
   },
   "outputs": [
    {
     "data": {
      "text/plain": [
       "F_onewayResult(statistic=47.47707409788145, pvalue=1.7561352117521778e-30)"
      ]
     },
     "execution_count": 10,
     "metadata": {},
     "output_type": "execute_result"
    }
   ],
   "source": [
    "def price_oneway_ANOVA(price_levels, df):\n",
    "    \"\"\"\n",
    "    Input: \n",
    "    - price_levels is the list of possible price levels\n",
    "    - df is the pandas dataframe containing the data\n",
    "    \n",
    "    This function returns the output of one-way ANOVA on ratings across different price levels\n",
    "    \"\"\"\n",
    "    # This dictionary will have each key being each price level, and the corresponding value will be the array\n",
    "    # of the ratings of the restaurants with that price level\n",
    "    price_rating_dict = dict()\n",
    "    for price in price_levels:\n",
    "        this_price_df = df.loc[df['price']==price]\n",
    "        price_rating_dict[price] = np.array(this_price_df['rating'])\n",
    "    return stats.f_oneway(*price_rating_dict.values())\n",
    "\n",
    "price_oneway_ANOVA(price_levels=[1,2,3,4], df=training_features)"
   ]
  },
  {
   "cell_type": "markdown",
   "metadata": {},
   "source": [
    "According to the ANOVA output, at $\\alpha=0.01$, the p-value is less than $\\alpha$, so we \n",
    "onclude at least two price levels have population rating means that are different, which\n",
    "lets us conclude price is an important feature."
   ]
  },
  {
   "cell_type": "markdown",
   "metadata": {},
   "source": [
    "### 2) Transactions (Pickup, Delivery, Reservation)\n",
    "\n",
    "For each of the three transaction features, let's use two-sample t-test (one group of the restaurants that have that transaction, and the other group of those that don't) to determine if the two groups have different population rating means."
   ]
  },
  {
   "cell_type": "code",
   "execution_count": 11,
   "metadata": {
    "collapsed": false
   },
   "outputs": [
    {
     "name": "stdout",
     "output_type": "stream",
     "text": [
      "pickup : Ttest_indResult(statistic=4.106383146081149, pvalue=4.043958289528989e-05)\n",
      "delivery : Ttest_indResult(statistic=6.037285380012374, pvalue=1.6104773030458345e-09)\n",
      "restaurant_reservation : Ttest_indResult(statistic=-13.585936270557617, pvalue=2.968256908179541e-40)\n"
     ]
    }
   ],
   "source": [
    "def two_sample_ttest(feature_name, values, df):\n",
    "    \"\"\"\n",
    "    Input: \n",
    "    - feature_name is the name of the feature\n",
    "    - values is the list of 2 possible values (which determine the 2 groups)\n",
    "    - df is the pandas dataframe containing the data\n",
    "    \n",
    "    This function returns the output of one-way ANOVA on ratings across different price levels\n",
    "    \"\"\"\n",
    "    feature_rating_dict = dict()\n",
    "    for value in values:\n",
    "        this_value_df = df.loc[df[feature_name]==value]\n",
    "        feature_rating_dict[value] = np.array(this_value_df['rating'])\n",
    "    return stats.ttest_ind(*feature_rating_dict.values(), equal_var=False)\n",
    "\n",
    "transaction_vars = ['pickup', 'delivery', 'restaurant_reservation']\n",
    "for feature in transaction_vars:\n",
    "    print(feature, \":\", two_sample_ttest(feature_name=feature, values=[0,1], df=training_features))"
   ]
  },
  {
   "cell_type": "markdown",
   "metadata": {},
   "source": [
    "According to the t-test output, for each of the three transaction features, at $\\alpha=0.01$,\n",
    "the p-value is less than $\\alpha$, so we conclude the two groups have population rating means\n",
    "that are different. Let's further examine the correlation coefficient for each pair among the three."
   ]
  },
  {
   "cell_type": "code",
   "execution_count": 12,
   "metadata": {
    "collapsed": false
   },
   "outputs": [
    {
     "name": "stdout",
     "output_type": "stream",
     "text": [
      "pickup , delivery 0.9295959980151096\n",
      "pickup , restaurant_reservation 0.11230166079059961\n",
      "delivery , restaurant_reservation 0.09411621019815176\n"
     ]
    }
   ],
   "source": [
    "def print_pcc(list_vars, df):\n",
    "    \"\"\"\n",
    "    Input\n",
    "    - list_vars is the list of feature names in which the Pearson Correlation Coefficient for each pair is computed\n",
    "    - df is the pandas dataframe containing the data\n",
    "    \n",
    "    This function prints the Pearson Correlation Coefficient for each pair of the features provided in the list\n",
    "    \"\"\"\n",
    "    for i in range(0, len(list_vars)):\n",
    "        for j in range(i+1, len(list_vars)):\n",
    "            corr = np.corrcoef(df[list_vars[i]], df[list_vars[j]])[0,1]\n",
    "            print(list_vars[i],  \",\", list_vars[j], corr)\n",
    "\n",
    "print_pcc(transaction_vars, df=training_features)"
   ]
  },
  {
   "cell_type": "markdown",
   "metadata": {},
   "source": [
    "Pickup and delivery are highly correlated, but the other two pairs are fine. So among the three, we decide to include reservation and only one of pickup and delivery. Between the two correlated features, we choose delivery since its t-test p-value is lower than pickup's."
   ]
  },
  {
   "cell_type": "markdown",
   "metadata": {},
   "source": [
    "### 3) Zip Code\n",
    "\n",
    "Let's plot a bubble plot of the ratings and zip codes."
   ]
  },
  {
   "cell_type": "code",
   "execution_count": 13,
   "metadata": {
    "collapsed": false
   },
   "outputs": [
    {
     "data": {
      "image/png": "[encoded data removed]",
      "text/plain": [
       "<Figure size 1152x720 with 1 Axes>"
      ]
     },
     "metadata": {},
     "output_type": "display_data"
    }
   ],
   "source": [
    "plt.rcParams[\"figure.figsize\"] = [16,10]\n",
    "\n",
    "def bubbleplot_two_vars(var1, var2, df, xlabel=\"Zip Code\", ylabel=\"Rating\"):\n",
    "    \"\"\"\n",
    "    Input\n",
    "    - var1 is the name of the first variable (which is a column in the dataframe)\n",
    "    - var2 is the name of the second variable (which is a column in the dataframe)\n",
    "    - df is the dataframe containing the data\n",
    "    \n",
    "    (Code modified from Course Notes on Data Visualization)\n",
    "    \n",
    "    This function plots a bubble plot of the two variables in the dataframe\n",
    "    \"\"\"\n",
    "    pairs = np.array(df[[var1, var2]]).astype(str)\n",
    "    label_x, x = np.unique(pairs[:,0], return_inverse=True)\n",
    "    label_y, y = np.unique(pairs[:,1], return_inverse=True)\n",
    "    xy, cnts = np.unique((x,y), axis=1, return_counts=True)\n",
    "    plt.scatter(xy[0], xy[1], s=cnts*8)\n",
    "    plt.xlabel(\"Zip Code\")\n",
    "    plt.ylabel(\"Rating\")\n",
    "    plt.title(\"%s vs %s; Point size indicates count\"%(ylabel, xlabel))\n",
    "    plt.xticks(range(len(label_x)), label_x)\n",
    "    plt.yticks(range(len(label_y)), label_y)\n",
    "    plt.show()\n",
    "\n",
    "bubbleplot_two_vars(var1='zip_code', var2='rating', df=training_features)"
   ]
  },
  {
   "cell_type": "markdown",
   "metadata": {},
   "source": [
    "We can see that in some zip codes, the ratings of 4.0 and 3.5 are clearly dominant, while for other zip codes, all the ratings are similarly frequent. This plot suggests that ratings do differ for different zip codes.\n",
    "\n",
    "Now, let's perform one-way ANOVA on the zip codes to check if at least two zip codes have different population mean of ratings."
   ]
  },
  {
   "cell_type": "code",
   "execution_count": 14,
   "metadata": {
    "collapsed": false
   },
   "outputs": [
    {
     "name": "stdout",
     "output_type": "stream",
     "text": [
      "Number of unique zip codes in training dataset: 200\n"
     ]
    },
    {
     "data": {
      "text/plain": [
       "F_onewayResult(statistic=4.076979418476831, pvalue=9.559609403227554e-72)"
      ]
     },
     "execution_count": 14,
     "metadata": {},
     "output_type": "execute_result"
    }
   ],
   "source": [
    "def zipcode_oneway_ANOVA(zipcodes, df):\n",
    "    \"\"\"\n",
    "    Input: \n",
    "    - zipcodes is the list of zip codes\n",
    "    - df is the pandas dataframe containing the data\n",
    "    \n",
    "    This function returns the output of one-way ANOVA on ratings across different zip codes\n",
    "    \"\"\"\n",
    "    # This dictionary will have each key being each zip code, and the corresponding value will be the array\n",
    "    # of the ratings of the restaurants with that zip code\n",
    "    zipcode_rating_dict = dict()\n",
    "    for zipcode in zipcodes:\n",
    "        this_zipcode_df = df.loc[df['zip_code']==zipcode]\n",
    "        zipcode_rating_dict[zipcode] = np.array(this_zipcode_df['rating'])\n",
    "    return stats.f_oneway(*zipcode_rating_dict.values())\n",
    "\n",
    "unique_zipcodes = training_features['zip_code'].unique()\n",
    "unique_zipcodes = unique_zipcodes[unique_zipcodes != \"00000\"]\n",
    "print(\"Number of unique zip codes in training dataset:\", len(unique_zipcodes))\n",
    "zipcode_oneway_ANOVA(zipcodes=unique_zipcodes, df=training_features)"
   ]
  },
  {
   "cell_type": "markdown",
   "metadata": {},
   "source": [
    "This result indicates at least two zip codes have dfferent populationr rating means. But since there are so many unique zip codes in our data, this result is not very informative. We could try performing two-sample t-test for every unordered pair of zip codes, but a better way would be to map each zip code to one of the five boroughs in NYC and do analysis."
   ]
  },
  {
   "cell_type": "code",
   "execution_count": 15,
   "metadata": {
    "collapsed": false
   },
   "outputs": [
    {
     "data": {
      "image/png": "[encoded data removed]",
      "text/plain": [
       "<Figure size 1152x720 with 1 Axes>"
      ]
     },
     "metadata": {},
     "output_type": "display_data"
    }
   ],
   "source": [
    "plt.rcParams[\"figure.figsize\"] = [16,10]\n",
    "\n",
    "def zipcode_to_borough(zipcodes):\n",
    "    \"\"\"\n",
    "    Input\n",
    "    - zipcodes is an iterable containing the zipcodes\n",
    "    \n",
    "    This function returns a Python list of boroughs for each zipcode in the dataframe (following the row order)\n",
    "    \"\"\"\n",
    "    # Map each zip code in the dataframe to one of the six boroughs\n",
    "    boroughs = []\n",
    "    for zipcode in zipcodes:\n",
    "        if zipcode in ZIPCODE_BOROUGH_DICT.keys():\n",
    "            boroughs.append(ZIPCODE_BOROUGH_DICT[zipcode])\n",
    "        else:\n",
    "            boroughs.append(\"Other\")\n",
    "    return boroughs\n",
    "\n",
    "temp_df = pd.DataFrame()\n",
    "temp_df['rating'] = training_features['rating']\n",
    "temp_df['borough'] = zipcode_to_borough(training_features['zip_code'])\n",
    "bubbleplot_two_vars(var1='borough', var2='rating', df=temp_df, xlabel=\"Borough\", ylabel=\"Rating\")"
   ]
  },
  {
   "cell_type": "markdown",
   "metadata": {},
   "source": [
    "For Brooklyn and Manhattan, ratings of 4.0 and 3.5 are clearly dominant, while for other boroughs, that dominance is relatively moderate. Let's perform one-way ANOVA on these six levels of borough."
   ]
  },
  {
   "cell_type": "code",
   "execution_count": 16,
   "metadata": {
    "collapsed": false
   },
   "outputs": [
    {
     "data": {
      "text/plain": [
       "F_onewayResult(statistic=5.200729318182081, pvalue=9.00200184481969e-05)"
      ]
     },
     "execution_count": 16,
     "metadata": {},
     "output_type": "execute_result"
    }
   ],
   "source": [
    "def borough_oneway_ANOVA(boroughs, df):\n",
    "    \"\"\"\n",
    "    Input: \n",
    "    - boroughs is the list of boroughs\n",
    "    - df is the pandas dataframe containing the data\n",
    "    \n",
    "    This function returns the output of one-way ANOVA on ratings across different boroughs\n",
    "    \"\"\"\n",
    "    # This dictionary will have each key being each borough, and the corresponding value will be the array\n",
    "    # of the ratings of the restaurants in that borough\n",
    "    borough_rating_dict = dict()\n",
    "    for borough in boroughs:\n",
    "        this_borough_df = df.loc[df['borough']==borough]\n",
    "        borough_rating_dict[borough] = np.array(this_borough_df['rating'])\n",
    "    return stats.f_oneway(*borough_rating_dict.values())\n",
    "\n",
    "borough_oneway_ANOVA(boroughs=[\"Manhattan\", \"Bronx\", \"Staten\", \"Queens\", \"Brooklyn\", \"Other\"], df=temp_df)"
   ]
  },
  {
   "cell_type": "markdown",
   "metadata": {},
   "source": [
    "According to the ANOVA output, at $\\alpha=0.01$, the p-value is less than $\\alpha$, so we conclude at least two boroughs have population rating means of restaurants that are different, and so we consider borough an important feature, which we will add in the feature engineering section."
   ]
  },
  {
   "cell_type": "markdown",
   "metadata": {},
   "source": [
    "### 4) Claimed\n",
    "\n",
    "A claimed business page on Yelp is one that has been claimed by the owner or representative of the business through our verification process. Let's plot the frequency of ratings for the claimed restaurants and that for nonclaimed restaurants, and then perform two-sample t-test."
   ]
  },
  {
   "cell_type": "code",
   "execution_count": 17,
   "metadata": {
    "collapsed": false
   },
   "outputs": [
    {
     "data": {
      "image/png": "[encoded data removed]",
      "text/plain": [
       "<Figure size 720x288 with 2 Axes>"
      ]
     },
     "metadata": {},
     "output_type": "display_data"
    }
   ],
   "source": [
    "plt.rcParams[\"figure.figsize\"] = [10,4]\n",
    "\n",
    "def barplot_claimed(rating, df, yaxis_same_range):\n",
    "    \"\"\"\n",
    "    Input: \n",
    "    - rating is the list of possible ratings\n",
    "    - df is the pandas dataframe containing the data\n",
    "    \n",
    "    This function overplots the bar chart of the ratings for restaurants claimed and those that are not.\n",
    "    \"\"\"\n",
    "    for i in [0,1]:\n",
    "        subplot_index = i + 1\n",
    "        # ratings of claimed restaurants\n",
    "        this_price_df = df.loc[df['is_claimed']==i]\n",
    "        data = this_price_df['rating']\n",
    "        counter = Counter(data)\n",
    "        freq = [counter[rate] for rate in rating]\n",
    "        plt.subplot(1,2,subplot_index)\n",
    "        plt.subplots_adjust(hspace=0.4, wspace=0.4)\n",
    "        plt.bar(rating, freq, width=0.2)\n",
    "        plt.xlabel(\"Rating\")\n",
    "        plt.ylabel(\"Frequency\")\n",
    "        if (yaxis_same_range==True):\n",
    "            plt.ylim(ymin=0, ymax=3500)\n",
    "        plt.xticks(rating, rating)\n",
    "        plt.title(\"Claimed\" if i==1 else \"Not Claimed\")\n",
    "    plt.show()\n",
    "\n",
    "barplot_claimed(rating=np.linspace(1, 5, 9), df=training_features, yaxis_same_range=True)"
   ]
  },
  {
   "cell_type": "markdown",
   "metadata": {},
   "source": [
    "The bar charts suggest that the frequencies are considerably different, especially in terms of how dominantly frequent ratings of 3.5 or 4 are. But again, the shapes are not horribly different once we don't set the y-axis ranges equally."
   ]
  },
  {
   "cell_type": "code",
   "execution_count": 18,
   "metadata": {
    "collapsed": false
   },
   "outputs": [
    {
     "data": {
      "image/png": "[encoded data removed]",
      "text/plain": [
       "<Figure size 720x288 with 2 Axes>"
      ]
     },
     "metadata": {},
     "output_type": "display_data"
    }
   ],
   "source": [
    "# Same plots, but we don't restrict the y-axis ranges to be the same\n",
    "barplot_claimed(rating=np.linspace(1, 5, 9), df=training_features, yaxis_same_range=False)"
   ]
  },
  {
   "cell_type": "markdown",
   "metadata": {},
   "source": [
    "Let's perform two-sample t-test."
   ]
  },
  {
   "cell_type": "code",
   "execution_count": 19,
   "metadata": {
    "collapsed": false
   },
   "outputs": [
    {
     "data": {
      "text/plain": [
       "Ttest_indResult(statistic=-16.97732521514442, pvalue=5.745408507445323e-63)"
      ]
     },
     "execution_count": 19,
     "metadata": {},
     "output_type": "execute_result"
    }
   ],
   "source": [
    "two_sample_ttest(feature_name='is_claimed', values=[0,1], df=training_features)"
   ]
  },
  {
   "cell_type": "markdown",
   "metadata": {},
   "source": [
    "According to the t-test output, at $\\alpha=0.01$, the p-value is less than $\\alpha$, so we conclude the two groups have population rating means that are different and thus treat whether or not the restaurant is claimed as a meaningful feature."
   ]
  },
  {
   "cell_type": "markdown",
   "metadata": {},
   "source": [
    "### 5) Hours"
   ]
  },
  {
   "cell_type": "markdown",
   "metadata": {},
   "source": [
    "There are 4 different days that we are taking into consideration - Wednesday, Friday, Saturday and Sunday. \n",
    "\n",
    "For each one of these individual days, we are analyzing how ratings are influenced based on whether the restaurant is in service overnight or not. "
   ]
  },
  {
   "cell_type": "code",
   "execution_count": 20,
   "metadata": {
    "collapsed": false
   },
   "outputs": [
    {
     "data": {
      "image/png": "[encoded data removed]",
      "text/plain": [
       "<Figure size 792x216 with 2 Axes>"
      ]
     },
     "metadata": {},
     "output_type": "display_data"
    },
    {
     "data": {
      "image/png": "[encoded data removed]",
      "text/plain": [
       "<Figure size 792x216 with 2 Axes>"
      ]
     },
     "metadata": {},
     "output_type": "display_data"
    },
    {
     "data": {
      "image/png": "[encoded data removed]",
      "text/plain": [
       "<Figure size 792x216 with 2 Axes>"
      ]
     },
     "metadata": {},
     "output_type": "display_data"
    },
    {
     "data": {
      "image/png": "[encoded data removed]",
      "text/plain": [
       "<Figure size 792x216 with 2 Axes>"
      ]
     },
     "metadata": {},
     "output_type": "display_data"
    }
   ],
   "source": [
    "plt.rcParams[\"figure.figsize\"] = [11,3]\n",
    "\n",
    "def barplot_overnight(rating, df):\n",
    "    \"\"\"\n",
    "    Input: \n",
    "    - rating is the list of possible ratings\n",
    "    - df is the pandas dataframe containing the training data\n",
    "    \n",
    "    This function plots the bar chart of the ratings for each of the days (overnight or not)\n",
    "    \"\"\"\n",
    "    # Days that are taken into consideration\n",
    "    days = [\"fri\", \"sat\", \"sun\", \"wed\"]\n",
    "    for day in days:\n",
    "        overnight_index = day + \"_is_overnight\"\n",
    "        overnight_day_df = df[[overnight_index, \"rating\"]]\n",
    "        is_overnight = overnight_day_df[overnight_day_df[overnight_index] == 1]\n",
    "        is_not_overnight = overnight_day_df[overnight_day_df[overnight_index] == 0]\n",
    "        # Initialize counters\n",
    "        counter_overnight = Counter(is_overnight[\"rating\"])\n",
    "        counter_not_overnight = Counter(is_not_overnight[\"rating\"])\n",
    "        freq_night = [counter_overnight[rate] for rate in rating]\n",
    "        freq_not_night = [counter_not_overnight[rate] for rate in rating]  \n",
    "        # Plotting\n",
    "        plt.subplot(1, 2, 1)\n",
    "        plt.bar(rating, freq_night, width = 0.2)\n",
    "        plt.xlabel(\"Rating\")\n",
    "        plt.ylabel(\"Frequency\")\n",
    "        plt.ylim(ymin=0, ymax=4500)\n",
    "        plt.xticks(rating, rating)\n",
    "        plt.title(\"%s Overnight\"%day)\n",
    "        plt.subplot(1, 2, 2)\n",
    "        plt.bar(rating, freq_not_night, width = 0.2)\n",
    "        plt.xlabel(\"Rating\")\n",
    "        plt.ylabel(\"Frequency\")\n",
    "        plt.ylim(ymin=0, ymax=4500)\n",
    "        plt.xticks(rating, rating)\n",
    "        plt.title(\"%s Not Overnight\" %day)   \n",
    "        plt.show()\n",
    "        \n",
    "rating=np.linspace(1, 5, 9)\n",
    "barplot_overnight(rating, training_features)"
   ]
  },
  {
   "cell_type": "code",
   "execution_count": 21,
   "metadata": {
    "collapsed": false
   },
   "outputs": [
    {
     "name": "stdout",
     "output_type": "stream",
     "text": [
      "fri_is_overnight : Ttest_indResult(statistic=6.637550445078004, pvalue=3.624871076296019e-11)\n",
      "sat_is_overnight : Ttest_indResult(statistic=6.809871431663141, pvalue=1.1209553527196547e-11)\n",
      "sun_is_overnight : Ttest_indResult(statistic=8.157620120845591, pvalue=5.882996176554579e-16)\n",
      "wed_is_overnight : Ttest_indResult(statistic=7.7636269341426365, pvalue=1.2133860635507373e-14)\n"
     ]
    }
   ],
   "source": [
    "overnight_vars = [\"fri_is_overnight\", \"sat_is_overnight\", \"sun_is_overnight\", \"wed_is_overnight\"]\n",
    "for feature in overnight_vars:\n",
    "    print(feature, \":\", two_sample_ttest(feature_name=feature, values=[0,1], df=training_features))"
   ]
  },
  {
   "cell_type": "markdown",
   "metadata": {},
   "source": [
    "The t-tests suggest for all 4 days of the week, overnight restaurants and non-overnight restaurants have different population mean ratings. But let's examine the correlations across the 4 days."
   ]
  },
  {
   "cell_type": "code",
   "execution_count": 22,
   "metadata": {
    "collapsed": false
   },
   "outputs": [
    {
     "name": "stdout",
     "output_type": "stream",
     "text": [
      "fri_is_overnight , sat_is_overnight 0.9775069650662183\n",
      "fri_is_overnight , sun_is_overnight 0.7439588676906399\n",
      "fri_is_overnight , wed_is_overnight 0.8037694388004953\n",
      "sat_is_overnight , sun_is_overnight 0.7522596725074339\n",
      "sat_is_overnight , wed_is_overnight 0.7976293125294568\n",
      "sun_is_overnight , wed_is_overnight 0.8954942600463202\n"
     ]
    }
   ],
   "source": [
    "print_pcc(overnight_vars, df=training_features)"
   ]
  },
  {
   "cell_type": "markdown",
   "metadata": {},
   "source": [
    "All pairs have very high correlations, so let's choose the two days that have the lowest correlation. That is: the overnight feature for only Friday and Sunday will be included."
   ]
  },
  {
   "cell_type": "markdown",
   "metadata": {},
   "source": [
    "Additionally, we are also interested in how long a particular restaurant is open on these 4 sets of days. \n",
    "We plot a scatter plot based on the ratings and how long a restaurant is open. "
   ]
  },
  {
   "cell_type": "code",
   "execution_count": 23,
   "metadata": {
    "collapsed": false
   },
   "outputs": [
    {
     "data": {
      "image/png": "[encoded data removed]",
      "text/plain": [
       "<Figure size 1080x936 with 4 Axes>"
      ]
     },
     "metadata": {},
     "output_type": "display_data"
    }
   ],
   "source": [
    "def convert(string):\n",
    "    \"\"\"\n",
    "    Convert a time string into minutes\n",
    "    \"\"\"\n",
    "    hour = int(string[0:2])\n",
    "    minutes = int(string[2:])\n",
    "    return hour*60 + minutes\n",
    "    \n",
    "def next_day(diff):\n",
    "    \"\"\"\n",
    "    Return number of hours if restaurant closes past midnight\n",
    "    \"\"\"\n",
    "    if (diff < 0):\n",
    "        return 24*60 + diff\n",
    "    return diff\n",
    "\n",
    "def scatterplot_duration(rating, df):\n",
    "    \"\"\"\n",
    "    Input: \n",
    "    - rating is the list of possible ratings\n",
    "    - df is the pandas dataframe containing the training data\n",
    "    \n",
    "    This function plots the bar chart of the ratings for each of the days (overnight or not)\n",
    "    \"\"\"\n",
    "    # Days that are taken into consideration\n",
    "    days = [\"fri\", \"sat\", \"sun\", \"wed\"]\n",
    "    i = 1\n",
    "    for day in days:\n",
    "        start_i = day + \"_start\"\n",
    "        end_i = day + \"_end\"\n",
    "        start = df[start_i].apply(convert)\n",
    "        end = df[end_i].apply(convert)\n",
    "        duration = ((end - start).apply(next_day)) / 60\n",
    "        plt.rcParams[\"figure.figsize\"] = [15,13]\n",
    "        plt.subplot(2, 2, i)\n",
    "        i += 1\n",
    "        plt.scatter(duration, df[\"rating\"], alpha = 0.1)\n",
    "        plt.yticks(rating, rating)\n",
    "        plt.ylabel(\"Rating\")\n",
    "        plt.xlabel(\"Duration (Hours)\")\n",
    "        plt.title(\"%s - Scatter Plot of Ratings vs Duration\" %day)\n",
    "    plt.show()\n",
    "    \n",
    "rating = np.linspace(1, 5, 9) \n",
    "scatterplot_duration(rating, training_features)"
   ]
  },
  {
   "cell_type": "markdown",
   "metadata": {},
   "source": [
    "The plots suggest different durations have different distributions of ratings. But again, let's examine correlations."
   ]
  },
  {
   "cell_type": "code",
   "execution_count": 24,
   "metadata": {
    "collapsed": false
   },
   "outputs": [
    {
     "name": "stdout",
     "output_type": "stream",
     "text": [
      "fri_duration , sat_duration 0.8680017237476263\n",
      "fri_duration , sun_duration 0.7271178427675188\n",
      "fri_duration , wed_duration 0.91956079675074\n",
      "sat_duration , sun_duration 0.82557811764244\n",
      "sat_duration , wed_duration 0.7901018111601341\n",
      "sun_duration , wed_duration 0.7334870344298536\n"
     ]
    }
   ],
   "source": [
    "days = [\"fri\", \"sat\", \"sun\", \"wed\"]\n",
    "temp_df = pd.DataFrame()\n",
    "for day in days:\n",
    "    start_i = day + \"_start\"\n",
    "    end_i = day + \"_end\"\n",
    "    dur_i = day + \"_duration\"\n",
    "    start = training_features[start_i].apply(convert)\n",
    "    end = training_features[end_i].apply(convert)\n",
    "    temp_df[dur_i] = ((end - start).apply(next_day))/60\n",
    "\n",
    "duration_vars = [\"fri_duration\", \"sat_duration\", \"sun_duration\", \"wed_duration\"]\n",
    "print_pcc(duration_vars, df=temp_df)"
   ]
  },
  {
   "cell_type": "markdown",
   "metadata": {},
   "source": [
    "Again, all pairs have very high correlations, so let's choose the two days that have the lowest correlation. That is: the duration feature for only Firday and Sunday will be included. We'd have to add such features in the feature engineering in the next part."
   ]
  },
  {
   "cell_type": "markdown",
   "metadata": {},
   "source": [
    "### 6) Category\n",
    "\n",
    "Lastly, we analyze the restaurant categories. Let's draw a side-by-side boxplot of ratings for each category."
   ]
  },
  {
   "cell_type": "code",
   "execution_count": 25,
   "metadata": {
    "collapsed": false
   },
   "outputs": [
    {
     "data": {
      "image/png": "[encoded data removed]",
      "text/plain": [
       "<Figure size 1296x216 with 1 Axes>"
      ]
     },
     "metadata": {},
     "output_type": "display_data"
    }
   ],
   "source": [
    "plt.rcParams[\"figure.figsize\"] = [18,3]\n",
    "\n",
    "def boxplot_each_category(df):\n",
    "    \"\"\"\n",
    "    Input\n",
    "    - df is the Pandas dataframe containing the data\n",
    "    \n",
    "    This function plots a side-by-side boxplot of ratings for each restaurant category in the dataframe\n",
    "    \"\"\"\n",
    "    unique_categs = np.unique([categ for categs in df['category'] for categ in categs])\n",
    "    new_df = pd.DataFrame()\n",
    "    new_df['rating'] = df['rating']\n",
    "    new_df['category'] = df['category']\n",
    "    boxplot_input = []\n",
    "    for categ in unique_categs:\n",
    "        this_categ_list = [row['rating'] for index, row in new_df.iterrows() if categ in row['category']]\n",
    "        boxplot_input.append(this_categ_list)\n",
    "    plt.boxplot(boxplot_input)\n",
    "    plt.xlabel(\"Category #\")\n",
    "    plt.ylabel(\"Rating\")\n",
    "    plt.title(\"Boxplot of Ratings for Each Category\")\n",
    "    plt.show()\n",
    "\n",
    "boxplot_each_category(df=training_features)"
   ]
  },
  {
   "cell_type": "markdown",
   "metadata": {},
   "source": [
    "Though the plot looks crowded due to the large number of categories, if we focus on the\n",
    "orange lines which are the means, we can see that the rating means are clearly different\n",
    "across different categories.\n",
    "\n",
    "Therefore, we decided to one-hot encode 115 binary features, each representing one category."
   ]
  },
  {
   "cell_type": "markdown",
   "metadata": {},
   "source": [
    "<a id=\"step-4\"></a>\n",
    "\n",
    "## Part 4: Feature Engineering and Compression\n",
    "\n",
    "After our analyses on the raw features we obtained from the API, we can choose\n",
    "which features to use and how to use them. First, we will write some helper functions to\n",
    "aid our feature engineering."
   ]
  },
  {
   "cell_type": "code",
   "execution_count": 26,
   "metadata": {
    "collapsed": true
   },
   "outputs": [],
   "source": [
    "def convert_to_min(column):\n",
    "    \"\"\"\n",
    "    Apply the convert function on a pandas column.\n",
    "    \n",
    "    @input column: A column containing strings of 24-hour times.\n",
    "    @type column: pandas.Series\n",
    "    \n",
    "    @return: The conversion of 24-hour times to raw minutes in the column\n",
    "    @rtype: pandas.Series\n",
    "    \"\"\"\n",
    "    return column.apply(convert)\n",
    "\n",
    "\n",
    "def add_minutes(df):\n",
    "    \"\"\"\n",
    "    Add minutes column to a dataframe based on start and end times.\n",
    "    \n",
    "    @input df: Dataframe of features.\n",
    "    @type df: pandas.DataFrame\n",
    "    \n",
    "    @return: The updated dataframe containing updated columns of raw minutes.\n",
    "    @rtype: pandas.DataFrame\n",
    "    \"\"\"\n",
    "    days = [\"fri\", \"sat\", \"sun\", \"wed\"]\n",
    "    for day in days:\n",
    "        df[day + \"_min_start\"] = convert_to_min(df[day + \"_start\"])\n",
    "        df[day + \"_min_end\"] = convert_to_min(df[day + \"_end\"])\n",
    "    return df\n",
    "\n",
    "\n",
    "def add_duration(df):\n",
    "    \"\"\"\n",
    "    Input\n",
    "    - df is the Pandas dataframe containing the data.\n",
    "    \n",
    "    This function inputs a dataframe, adds 'duration' column for each of Wednesday, Friday, Saturday, and Sunday\n",
    "    and returns the new dataframe\n",
    "    \"\"\"\n",
    "    # Days that are taken into consideration\n",
    "    days = [\"fri\", \"sat\", \"sun\", \"wed\"]\n",
    "    for day in days:\n",
    "        start_i = day + \"_start\"\n",
    "        end_i = day + \"_end\"\n",
    "        start = df[start_i].apply(convert)\n",
    "        end = df[end_i].apply(convert)\n",
    "        duration = ((end - start).apply(next_day)) / 60\n",
    "        colname = day + \"_duration\"\n",
    "        df[colname] = duration\n",
    "    return df\n",
    "\n",
    "\n",
    "def label_one_hot(y):\n",
    "    \"\"\"\n",
    "    This function encodes the labels using one-hot encoding.\n",
    "    \n",
    "    @input y: The labels to encode.\n",
    "    @type y: numpy.ndarray.\n",
    "    \n",
    "    @return: The one-hot encoding of labels.\n",
    "    @rtype: numpy.ndarray.\n",
    "    \"\"\"\n",
    "    ratings = np.linspace(1, 5, 9)\n",
    "    return np.array([(ratings == r).astype(int) for r in y])\n",
    "\n",
    "\n",
    "def add_one_hot_encoding(df, feature_name, unique_values):\n",
    "    \"\"\"\n",
    "    Input\n",
    "    - df is the Pandas dataframe containing the data\n",
    "    - feature_name (str) is the name of the feature we want to make one hot encoding of\n",
    "    - unique_values (array-like) contains the unique possible values that the feature can have\n",
    "    \n",
    "    This function adds the one hot encoding columns of the feature and returns the new dataframe\n",
    "    \"\"\"\n",
    "    for unique_value in unique_values:\n",
    "        this_value_name = feature_name + \"_\" + str(unique_value)\n",
    "        if feature_name == 'category':\n",
    "            this_value_column = [int(unique_value in set_categs) for set_categs in df[feature_name]]\n",
    "        elif feature_name == 'borough':\n",
    "            # For 'borough', we use dummy variable approach instead of the usual one-hot encoding approach\n",
    "            if unique_value != \"Other\":\n",
    "                this_value_column = [int(unique_value == row_value) for row_value in df[feature_name]]\n",
    "        else:\n",
    "            this_value_column = [int(unique_value == row_value) for row_value in df[feature_name]]\n",
    "        df[this_value_name] = this_value_column\n",
    "    return df"
   ]
  },
  {
   "cell_type": "markdown",
   "metadata": {},
   "source": [
    "Now that we have some helpful helper functions, we can go on and compress and engineer our extracted\n",
    "features to make a design matrix to train on."
   ]
  },
  {
   "cell_type": "code",
   "execution_count": 27,
   "metadata": {
    "collapsed": false
   },
   "outputs": [
    {
     "name": "stdout",
     "output_type": "stream",
     "text": [
      "X_train shape: (12860, 138)\n",
      "y_train shape: (12860,)\n",
      "X_test shape: (3214, 138)\n",
      "y_test shape: (3214,)\n"
     ]
    }
   ],
   "source": [
    "def compress_features(features_df, unique_categs):\n",
    "    \"\"\"\n",
    "    This function takes a feature dataframe and outputs a corresponding\n",
    "    numpy array of features.\n",
    "    \n",
    "    @input features: Dataframe of features.\n",
    "    @type features: pandas.DataFrame.\n",
    "    \n",
    "    @Input unique_categs: numpy array of unique categories in the training set\n",
    "    @type unique_categs: numpy.ndarray\n",
    "    \n",
    "    @return: a design matrix of floats.\n",
    "    @rtype: numpy.ndarray of float.\n",
    "    \"\"\"\n",
    "    # Add Additional Features\n",
    "    features_df = add_duration(features_df)\n",
    "    features_df = add_minutes(features_df)\n",
    "    features_df = add_one_hot_encoding(features_df, 'category', unique_categs)\n",
    "    features_df['borough'] = zipcode_to_borough(features_df[\"zip_code\"])\n",
    "    boroughs = [\"Manhattan\", \"Bronx\", \"Staten\", \"Queens\", \"Brooklyn\"]\n",
    "    features_df = add_one_hot_encoding(features_df, 'borough', boroughs)\n",
    "    \n",
    "    # Drop Redundant or Nonuseful Features\n",
    "    drop_cols = [\"category\", \"zip_code\", \"borough\"]\n",
    "    for day in [\"wed\", \"fri\", \"sat\", \"sun\"]:\n",
    "        for suffix in [\"_start\", \"_end\"]:\n",
    "            drop_cols.append(day + suffix)\n",
    "        if day in {\"wed\", \"sat\"}:\n",
    "            for suffix in [\"_min_start\", \"_min_end\", \"_is_overnight\", \"_duration\"]:\n",
    "                drop_cols.append(day + suffix)\n",
    "    features_df = features_df.drop(drop_cols, axis=1)\n",
    "    \n",
    "    # Setup Design Matrix and Labels\n",
    "    y = np.array(features_df[\"rating\"]) if \"rating\" in features_df else None\n",
    "    X = np.array(features_df.drop(\"rating\", axis=1, errors='ignore')).astype(float)\n",
    "    return X, y\n",
    "\n",
    "\n",
    "zipcode_borough_dict = np.load('zipcode_borough_dict.npy').item()\n",
    "unique_categs = np.unique([categ for categs in training_features['category'] for categ in categs])\n",
    "X_train, y_train = compress_features(training_features, unique_categs=unique_categs)\n",
    "X_test, y_test = compress_features(test_features, unique_categs=unique_categs)\n",
    "\n",
    "print('X_train shape:', X_train.shape)\n",
    "print('y_train shape:', y_train.shape)\n",
    "print('X_test shape:', X_test.shape)\n",
    "print('y_test shape:', y_test.shape)"
   ]
  },
  {
   "cell_type": "code",
   "execution_count": 28,
   "metadata": {
    "collapsed": false
   },
   "outputs": [
    {
     "data": {
      "text/plain": [
       "array([1.00e+00, 0.00e+00, 0.00e+00, 1.00e+00, 0.00e+00, 0.00e+00,\n",
       "       0.00e+00, 1.00e+01, 1.00e+01, 6.60e+02, 1.26e+03, 6.60e+02,\n",
       "       1.26e+03, 0.00e+00, 0.00e+00, 0.00e+00, 0.00e+00, 0.00e+00,\n",
       "       0.00e+00, 0.00e+00, 0.00e+00, 0.00e+00, 0.00e+00, 0.00e+00,\n",
       "       0.00e+00, 0.00e+00, 0.00e+00, 0.00e+00, 0.00e+00, 0.00e+00,\n",
       "       0.00e+00, 0.00e+00, 0.00e+00, 0.00e+00, 0.00e+00, 0.00e+00,\n",
       "       0.00e+00, 0.00e+00, 0.00e+00, 0.00e+00, 0.00e+00, 0.00e+00,\n",
       "       0.00e+00, 0.00e+00, 0.00e+00, 0.00e+00, 0.00e+00, 0.00e+00,\n",
       "       0.00e+00, 0.00e+00, 0.00e+00, 0.00e+00, 0.00e+00, 0.00e+00,\n",
       "       0.00e+00, 0.00e+00, 0.00e+00, 0.00e+00, 0.00e+00, 0.00e+00,\n",
       "       0.00e+00, 0.00e+00, 0.00e+00, 0.00e+00, 0.00e+00, 0.00e+00,\n",
       "       0.00e+00, 0.00e+00, 0.00e+00, 0.00e+00, 0.00e+00, 0.00e+00,\n",
       "       0.00e+00, 0.00e+00, 0.00e+00, 0.00e+00, 0.00e+00, 0.00e+00,\n",
       "       0.00e+00, 0.00e+00, 0.00e+00, 0.00e+00, 1.00e+00, 0.00e+00,\n",
       "       0.00e+00, 0.00e+00, 0.00e+00, 0.00e+00, 0.00e+00, 0.00e+00,\n",
       "       0.00e+00, 0.00e+00, 0.00e+00, 0.00e+00, 0.00e+00, 1.00e+00,\n",
       "       0.00e+00, 0.00e+00, 0.00e+00, 0.00e+00, 0.00e+00, 0.00e+00,\n",
       "       0.00e+00, 0.00e+00, 0.00e+00, 0.00e+00, 0.00e+00, 0.00e+00,\n",
       "       0.00e+00, 0.00e+00, 0.00e+00, 0.00e+00, 0.00e+00, 0.00e+00,\n",
       "       0.00e+00, 0.00e+00, 0.00e+00, 0.00e+00, 0.00e+00, 0.00e+00,\n",
       "       0.00e+00, 0.00e+00, 0.00e+00, 0.00e+00, 0.00e+00, 0.00e+00,\n",
       "       0.00e+00, 0.00e+00, 0.00e+00, 0.00e+00, 0.00e+00, 0.00e+00,\n",
       "       0.00e+00, 0.00e+00, 0.00e+00, 0.00e+00, 0.00e+00, 1.00e+00])"
      ]
     },
     "execution_count": 28,
     "metadata": {},
     "output_type": "execute_result"
    }
   ],
   "source": [
    "X_train[5]"
   ]
  },
  {
   "cell_type": "code",
   "execution_count": 29,
   "metadata": {
    "collapsed": false
   },
   "outputs": [
    {
     "name": "stdout",
     "output_type": "stream",
     "text": [
      "1.5\n",
      "[0 1 0 0 0 0 0 0 0]\n"
     ]
    }
   ],
   "source": [
    "print(y_train[5])\n",
    "y_train_hot = label_one_hot(y_train)\n",
    "print(y_train_hot[5])"
   ]
  },
  {
   "cell_type": "markdown",
   "metadata": {},
   "source": [
    "<a id=\"step-5\"></a>\n",
    "\n",
    "## Part 5: Machine Learning Model Setup\n",
    "\n",
    "We construct some machine learning models to train and see which\n",
    "one gives us the best performance on the test data. \n",
    "\n",
    "We use two metrics:\n",
    "- Prediction accuracy: the proportion of the datapoints that are correctly classified\n",
    "- Mean aboslute error (MAE): the mean of the absolute differences of the true rating and predicted rating\n",
    "\n",
    "We include MAE because in our task, the 9 classes don't represent 9 separate/independent lables (like in image classification) but rather are ordinal. So we can be generous about e.g. predicting as 4.5 while the truth is 5.0.\n",
    "\n",
    "For non-classifer models (i.e. regression models), for computing the accuracy, we map the predicted\n",
    "rating to the closest possible Yelp rating."
   ]
  },
  {
   "cell_type": "markdown",
   "metadata": {},
   "source": [
    "### 0) Base Model Class"
   ]
  },
  {
   "cell_type": "code",
   "execution_count": 30,
   "metadata": {
    "collapsed": true
   },
   "outputs": [],
   "source": [
    "class BaseModel(object):\n",
    "    \"\"\"\n",
    "    This is the base model that machine learning models will inherit from.\n",
    "    \"\"\"\n",
    "    def __init__(self, model, params):\n",
    "        self.model = model\n",
    "        self.params = params\n",
    "    \n",
    "    def fit(self):\n",
    "        pass\n",
    "    \n",
    "    def predict(self, X):\n",
    "        pass\n",
    "    \n",
    "    def get_accuracy(self, X, y):\n",
    "        \"\"\"\n",
    "        Calculate the prediction accuracy on new data\n",
    "\n",
    "        @input X: The design matrix for validation or test.\n",
    "        @type X: numpy.ndarray.\n",
    "\n",
    "        @input y: The validation or test labels.\n",
    "        @type y: numpy.ndarray.\n",
    "\n",
    "        @return: The accuracy.\n",
    "        @rtype: Float.\n",
    "        \"\"\"\n",
    "        y_pred = self.predict(X)\n",
    "        return np.mean((y == y_pred).astype(int))\n",
    "\n",
    "    def get_MAE(self, X, y):\n",
    "        \"\"\"\n",
    "        @input X: The design matrix for validation or test.\n",
    "        @type X: numpy.ndarray.\n",
    "\n",
    "        @input y: The validation or test labels.\n",
    "        @type y: numpy.ndarray.\n",
    "\n",
    "        @return: The mean squared error.\n",
    "        @rtype: Float.\n",
    "        \"\"\"\n",
    "        y_pred = self.predict(X)\n",
    "        return np.mean(np.absolute(y - y_pred))"
   ]
  },
  {
   "cell_type": "markdown",
   "metadata": {},
   "source": [
    "### 1) Neural Network"
   ]
  },
  {
   "cell_type": "code",
   "execution_count": 31,
   "metadata": {
    "collapsed": false
   },
   "outputs": [
    {
     "name": "stdout",
     "output_type": "stream",
     "text": [
      "Train on 10000 samples, validate on 2859 samples\n",
      "Epoch 1/3\n",
      "10000/10000 [==============================] - 1s 114us/step - loss: 1.7362 - acc: 0.3139 - val_loss: 1.6659 - val_acc: 0.3396\n",
      "Epoch 2/3\n",
      "10000/10000 [==============================] - 1s 54us/step - loss: 1.6036 - acc: 0.3543 - val_loss: 1.6461 - val_acc: 0.3498\n",
      "Epoch 3/3\n",
      "10000/10000 [==============================] - 1s 57us/step - loss: 1.5560 - acc: 0.3788 - val_loss: 1.6496 - val_acc: 0.3571\n",
      "Validation accuracy: 0.3571178733823015\n",
      "Validation MAE: 0.5229101084295208\n"
     ]
    }
   ],
   "source": [
    "class ANN(BaseModel):\n",
    "    \"\"\"\n",
    "    This is a neural network written using Keras.\n",
    "    \"\"\"\n",
    "    def __init__(self, layers, input_shape, cat_num):\n",
    "        \"\"\"\n",
    "        Initialize a Keras neural network model.\n",
    "\n",
    "        @input layers: The hidden layer sizes.\n",
    "        @type layers: Tuple of Int.\n",
    "\n",
    "        @input input_shape: The number of input features.\n",
    "        @type input_shape: Int.\n",
    "\n",
    "        @input cat_num: Number of categories.\n",
    "        @type cat_num: Int.\n",
    "        \"\"\"\n",
    "        model = Sequential()\n",
    "        model.add(BatchNormalization(input_shape=(input_shape,)))\n",
    "        for n in layers:\n",
    "            model.add(Dense(n, activation='relu'))\n",
    "        model.add(Dense(cat_num, activation='softmax'))\n",
    "        model.compile(loss='categorical_crossentropy',\n",
    "                      optimizer='adam', metrics=['accuracy'])\n",
    "        params = \"Layers: \" + str(layers)\n",
    "        super().__init__(model, params)\n",
    "\n",
    "    def fit(self, X, y, validation=None, verbose=0, epochs=3):\n",
    "        \"\"\"\n",
    "        Fit the neural network with training data.\n",
    "\n",
    "        @input X: The design matrix for training.\n",
    "        @type X: numpy.ndarray.\n",
    "\n",
    "        @input y: The training labels.\n",
    "        @type y: numpy.ndarray.\n",
    "\n",
    "        @input validation: The validation set, tuple of features and labels.\n",
    "        @type validation: Tuple of numpy.ndarray.\n",
    "\n",
    "        @input verbose: Verbosity of training, 1 or 0.\n",
    "        @type verbose: Int.\n",
    "\n",
    "        @return: A trained model.\n",
    "        @type: keras.models.Sequential.\n",
    "        \"\"\"\n",
    "        y_hot = label_one_hot(y)\n",
    "        if validation is not None:\n",
    "            self.model.fit(X, y_hot, batch_size=64, epochs=epochs, verbose=verbose,\n",
    "                           validation_data=(validation[0], label_one_hot(validation[1])))\n",
    "        else:\n",
    "            self.model.fit(X, y_hot, batch_size=64, epochs=epochs, verbose=verbose)\n",
    "        return self.model\n",
    "\n",
    "    def predict(self, X):\n",
    "        \"\"\"\n",
    "        Make a prediction given features.\n",
    "\n",
    "        @input X: A feature matrix.\n",
    "        @type X: numpy.ndarray.\n",
    "\n",
    "        @return: The predictions.\n",
    "        @rtype: numpy.ndarray.\n",
    "        \"\"\"\n",
    "        ratings = np.linspace(1, 5, 9)\n",
    "        return ratings[np.argmax(self.model.predict(X), axis=1)]\n",
    "\n",
    "\n",
    "n_features = X_train.shape[1]\n",
    "classifier = ANN(layers=(128, 128,), input_shape=n_features, cat_num=9)\n",
    "split = 10000\n",
    "X_tr = X_train[:split]\n",
    "y_tr = y_train[:split]\n",
    "X_va = X_train[split + 1:]\n",
    "y_va = y_train[split + 1:]\n",
    "classifier.fit(X_tr, y_tr, verbose=1, epochs=3, validation=(X_va, y_va))\n",
    "print(\"Validation accuracy:\", classifier.get_accuracy(X_va, y_va))\n",
    "print(\"Validation MAE:\", classifier.get_MAE(X_va, y_va))"
   ]
  },
  {
   "cell_type": "markdown",
   "metadata": {},
   "source": [
    "### 2) L2-regularized Polynomial Regression"
   ]
  },
  {
   "cell_type": "code",
   "execution_count": 32,
   "metadata": {
    "collapsed": false
   },
   "outputs": [
    {
     "name": "stdout",
     "output_type": "stream",
     "text": [
      "Validation accuracy: 0.32703742567331234\n",
      "Validation MAE: 0.5187128366561735\n"
     ]
    }
   ],
   "source": [
    "class RidgeRegression(BaseModel):\n",
    "    \"\"\"\n",
    "    This is a L2-regularized polynomial regression written using scikit learn.\n",
    "    \"\"\"\n",
    "    def __init__(self, alpha, max_iter):\n",
    "        \"\"\"\n",
    "        Initialize a sklearn L2-regularized polynomial regression model\n",
    "\n",
    "        @input alpha: the regularization hyperparameter\n",
    "        @type alpha: float\n",
    "\n",
    "        @input max_iter: maximum number of iterations\n",
    "        @type max_iter: int\n",
    "        \"\"\"\n",
    "        model = Ridge(alpha=alpha, normalize=True, max_iter=max_iter)\n",
    "        self.poly = PolynomialFeatures(degree=2)\n",
    "        params = \"Alpha:\" + str(alpha)\n",
    "        super().__init__(model, params)\n",
    "\n",
    "    def fit(self, X, y):\n",
    "        \"\"\"\n",
    "        Fit the L2-regularized polynomial regression with training data.\n",
    "\n",
    "        @input X: The design matrix for training.\n",
    "        @type X: numpy.ndarray.\n",
    "\n",
    "        @input y: The training labels.\n",
    "        @type y: numpy.ndarray.\n",
    "        \"\"\"\n",
    "        poly_X = self.poly.fit_transform(X)\n",
    "        self.model.fit(poly_X, y)\n",
    "        return self.model\n",
    "    \n",
    "    def predict(self, X):\n",
    "        \"\"\"\n",
    "        Make a prediction given features.\n",
    "\n",
    "        @input X: A feature matrix.\n",
    "        @type X: numpy.ndarray.\n",
    "\n",
    "        @return: The predictions.\n",
    "        @rtype: numpy.ndarray.\n",
    "        \"\"\"\n",
    "        poly_X = self.poly.fit_transform(X)\n",
    "        y_pred_num = self.model.predict(poly_X)\n",
    "        return self.pred_to_labels(y_pred_num)\n",
    "    \n",
    "    def pred_to_labels(self, predict):\n",
    "        \"\"\"\n",
    "        Input\n",
    "        - predict is the array containing predicted values (regression)\n",
    "        \n",
    "        This function returns the array where each element is rounded or clipped so that it's\n",
    "        expressed as one of the 9 labels in our classification task\n",
    "        \"\"\"\n",
    "        labels = np.linspace(1, 5, 9)\n",
    "        return labels[np.argmin(np.absolute(predict[np.newaxis].T - labels), axis=1)]\n",
    "\n",
    "    \n",
    "poly = PolynomialFeatures(degree=2)\n",
    "split = 10000\n",
    "X_tr = X_train[:split]\n",
    "y_tr = y_train[:split]\n",
    "X_va = X_train[split + 1:]\n",
    "y_va = y_train[split + 1:]\n",
    "poly_reg = RidgeRegression(alpha=0.8, max_iter=1000)\n",
    "poly_reg.fit(X_tr, y_tr)\n",
    "print(\"Validation accuracy:\",poly_reg.get_accuracy(X_va, y_va))\n",
    "print(\"Validation MAE:\", poly_reg.get_MAE(X_va, y_va))"
   ]
  },
  {
   "cell_type": "markdown",
   "metadata": {},
   "source": [
    "### 3) Kernel Support Vector Machine"
   ]
  },
  {
   "cell_type": "code",
   "execution_count": 33,
   "metadata": {
    "collapsed": false
   },
   "outputs": [
    {
     "name": "stdout",
     "output_type": "stream",
     "text": [
      "Validation accuracy: 0.3071003847499126\n",
      "Validation MAE: 0.6007345225603358\n"
     ]
    }
   ],
   "source": [
    "class SVM(BaseModel):\n",
    "    \"\"\"\n",
    "    This is a support vector machine using scikit-learn.\n",
    "    \"\"\"\n",
    "    def __init__(self, kernel='rbf', C=1.0):\n",
    "        \"\"\"\n",
    "        Initialize a sklearn kernel SVM model\n",
    "\n",
    "        @input kernel: (hyperparameter) which kernel to use\n",
    "        @type kernel: str\n",
    "\n",
    "        @input C: (hyperparameter) penalty on error terms\n",
    "        @type C: float\n",
    "        \"\"\"\n",
    "        model = SVC(kernel=kernel, C=C)\n",
    "        params = \"Kernel: \" + kernel + \", C: \" + str(C)\n",
    "        super().__init__(model, params)\n",
    "\n",
    "    def fit(self, X, y):\n",
    "        \"\"\"\n",
    "        Fit the neural network with training data.\n",
    "\n",
    "        @input X: The design matrix for training.\n",
    "        @type X: numpy.ndarray.\n",
    "\n",
    "        @input y: The training labels.\n",
    "        @type y: numpy.ndarray.\n",
    "\n",
    "        @return: A trained model.\n",
    "        @type: sklearn.svm.classes.SVC.\n",
    "        \"\"\"\n",
    "        y_str = y.astype(str)\n",
    "        return self.model.fit(X, y_str)\n",
    "\n",
    "    def predict(self, X):\n",
    "        \"\"\"\n",
    "        Make a prediction given features.\n",
    "\n",
    "        @input X: A feature matrix.\n",
    "        @type X: numpy.ndarray.\n",
    "\n",
    "        @return: The predictions.\n",
    "        @rtype: numpy.ndarray.\n",
    "        \"\"\"\n",
    "        return self.model.predict(X).astype(float)\n",
    "\n",
    "\n",
    "classifier = SVM()\n",
    "split = 10000\n",
    "X_tr = X_train[:split]\n",
    "y_tr = y_train[:split]\n",
    "X_va = X_train[split + 1:]\n",
    "y_va = y_train[split + 1:]\n",
    "classifier.fit(X_tr, y_tr)\n",
    "print(\"Validation accuracy:\", classifier.get_accuracy(X_va, y_va))\n",
    "print(\"Validation MAE:\", classifier.get_MAE(X_va, y_va))"
   ]
  },
  {
   "cell_type": "markdown",
   "metadata": {},
   "source": [
    "### 4) L2-regularized Logistic Regression"
   ]
  },
  {
   "cell_type": "code",
   "execution_count": 34,
   "metadata": {
    "collapsed": false
   },
   "outputs": [
    {
     "name": "stdout",
     "output_type": "stream",
     "text": [
      "Validation accuracy: 0.30290311297656525\n",
      "Validation MAE: 0.6089541797831409\n"
     ]
    }
   ],
   "source": [
    "class LogisticRegressionsionClassifier(BaseModel):\n",
    "    \"\"\"\n",
    "    This is a L2-regularized logistic regression classifier written using\n",
    "    scikit-learn.\n",
    "    \"\"\"\n",
    "    def __init__(self, C, max_iter):\n",
    "        \"\"\"\n",
    "        Initialize a sklearn logistic regression model\n",
    "\n",
    "        @input C: the inverse of regularization strength (hyperparameter)\n",
    "        @type C: float\n",
    "\n",
    "        @input max_iter: maximum number of iterations\n",
    "        @type max_iter: int\n",
    "        \"\"\"\n",
    "        model = LogisticRegression(solver='sag', max_iter=max_iter,\n",
    "                                   multi_class='multinomial', C=C)\n",
    "        params = \"C: \" + str(C)\n",
    "        super().__init__(model, params)\n",
    "    \n",
    "    def fit(self, X, y):\n",
    "        y_str = y.astype(str)\n",
    "        return self.model.fit(X, y_str)\n",
    "    \n",
    "    def predict(self, X):\n",
    "        return self.model.predict(X).astype(float)\n",
    "\n",
    "classifier = LogisticRegressionsionClassifier(C=3.5, max_iter=1000)\n",
    "split = 10000\n",
    "X_tr = X_train[:split] / 150\n",
    "y_tr = y_train[:split]\n",
    "X_va = X_train[split + 1:] / 150\n",
    "y_va = y_train[split + 1:]\n",
    "classifier.fit(X_tr, y_tr)\n",
    "print(\"Validation accuracy:\", classifier.get_accuracy(X_va, y_va))\n",
    "print(\"Validation MAE:\", classifier.get_MAE(X_va, y_va))"
   ]
  },
  {
   "cell_type": "markdown",
   "metadata": {},
   "source": [
    "<a id=\"step-6\"></a>\n",
    "\n",
    "## Part 6: Cross Validation and Model Selection\n",
    "\n",
    "Now we use 5-fold cross validation to determine which model with which hyperparameter produces the highest\n",
    "validation accuracy for our dataset and pick that model to train and predict on the test dataset."
   ]
  },
  {
   "cell_type": "code",
   "execution_count": 35,
   "metadata": {
    "collapsed": false
   },
   "outputs": [
    {
     "name": "stdout",
     "output_type": "stream",
     "text": [
      "Best Classifier: ANN\n",
      "Best Classifier parameters: Layers: (256, 256)\n"
     ]
    }
   ],
   "source": [
    "def cross_validation(models, X, y):\n",
    "    \"\"\"\n",
    "    This function uses 5-fold cross validation to calculate the accuracy of the model.\n",
    "    \n",
    "    @input models: A list of models to train and validate.\n",
    "    @type models: List of BaseModel.\n",
    "    \n",
    "    @input X: The training dataset.\n",
    "    @type X: numpy.ndarray.\n",
    "    \n",
    "    @input y: The training labels.\n",
    "    @type y: numpy.ndarray.\n",
    "    \n",
    "    @return: The validation accuracies of the models.\n",
    "    @rtype: numpy.ndarray of float.\n",
    "    \"\"\"\n",
    "    n = len(y)\n",
    "    folds = 5\n",
    "    indices_perm = np.random.permutation(n)\n",
    "    partitions = np.array_split(indices_perm, folds)\n",
    "    accuracies = np.zeros(len(models))\n",
    "    for p_ind in range(folds):\n",
    "        tr_ind = [partitions[i] for i in range(folds) if i != p_ind]\n",
    "        training_ind = np.array([i for p in tr_ind for i in p])\n",
    "        validation_ind = partitions[p_ind]\n",
    "        X_tr = X[training_ind]\n",
    "        y_tr = y[training_ind]\n",
    "        X_va = X[validation_ind]\n",
    "        y_va = y[validation_ind]\n",
    "        acc_list = []\n",
    "        for model in models:\n",
    "            model.fit(X_tr, y_tr)\n",
    "            acc_list.append(model.get_accuracy(X_va, y_va))\n",
    "        accuracies += np.array(acc_list)\n",
    "    return accuracies / folds\n",
    "    \n",
    "\n",
    "def pick_model(X, y):\n",
    "    \"\"\"\n",
    "    This function picks the model with the best validation accuracy.\n",
    "    \n",
    "    @input X: The training design matrix.\n",
    "    @type X: numpy.ndarray of floats.\n",
    "    @input y: The training labels.\n",
    "    @type y: numpy.ndarray of floats.\n",
    "    \n",
    "    @return: The best model.\n",
    "    @rtype: BaseModel.\n",
    "    \"\"\"\n",
    "    models = []\n",
    "    \n",
    "    # Neural Network Configs\n",
    "    for l in [(64, 64,), (128, 128,), (256, 256,), (64, 64, 64,), (128, 128, 128)]:\n",
    "        clf = ANN(layers=l, input_shape=X.shape[1], cat_num=9)\n",
    "        models.append(clf)\n",
    "    \n",
    "    # SVM Configs\n",
    "    for C, k in [(1.0, 'rbf'), (0.5, 'rbf')]:\n",
    "        clf = SVM(C=C, kernel=k)\n",
    "        models.append(clf)\n",
    "    \n",
    "    # Logistic Regression Configs\n",
    "    for C in [0.5, 0.75, 1.0]:\n",
    "        clf = LogisticRegressionsionClassifier(C=C, max_iter=1000)\n",
    "        models.append(clf)\n",
    "    \n",
    "    # Polynomial Regression Models\n",
    "    for alpha in [0.01, 0.1, 1.0]:\n",
    "        clf = RidgeRegression(alpha=alpha, max_iter=1000)\n",
    "        models.append(clf)\n",
    "    \n",
    "    # Cross Validation on Models\n",
    "    models = np.array(models)\n",
    "    accuracies = cross_validation(models, X, y)\n",
    "    model_ind = np.argmax(accuracies)\n",
    "    return models[model_ind]\n",
    "\n",
    "best_classifier = pick_model(X_train, y_train)\n",
    "print(\"Best Classifier:\", type(best_classifier).__name__)\n",
    "print(\"Best Classifier parameters:\", best_classifier.params)"
   ]
  },
  {
   "cell_type": "markdown",
   "metadata": {},
   "source": [
    "<a id=\"step-7\"></a>\n",
    "\n",
    "## Part 7: Prediction and Test Accuracy"
   ]
  },
  {
   "cell_type": "markdown",
   "metadata": {},
   "source": [
    "The cross validation suggests that ANN with (256, 256) layers is the best among our models. So we train this model on the training data and then predict on the test data."
   ]
  },
  {
   "cell_type": "code",
   "execution_count": 36,
   "metadata": {
    "collapsed": false
   },
   "outputs": [
    {
     "name": "stdout",
     "output_type": "stream",
     "text": [
      "Final Testing Accuracy: 0.3242065961418793\n",
      "Final Mean Absolute Error: 0.5723397635345364\n",
      "Classifier Used: ANN\n",
      "Best Classifier Parameters: Layers: (256, 256)\n"
     ]
    }
   ],
   "source": [
    "best_classifier.fit(X_train, y_train)\n",
    "print(\"Final Testing Accuracy:\", best_classifier.get_accuracy(X_test, y_test))\n",
    "print(\"Final Mean Absolute Error:\", best_classifier.get_MAE(X_test, y_test))\n",
    "print(\"Classifier Used:\", type(best_classifier).__name__)\n",
    "print(\"Best Classifier Parameters:\", best_classifier.params)"
   ]
  },
  {
   "cell_type": "markdown",
   "metadata": {},
   "source": [
    "As explained above, MAE depeicts the average distance between predicted labels and true labels. Since the 9 classes in our classification task don't represent 9 separate/independent lables but rather are ordinal, we can be generous about predicting either above or below one rating level. (For example, predicting as 4.0 when true rating is 4.5)\n",
    "\n",
    "Below we calculate the proportion of the predicted test ratings that are within one rating level, which is +/- 0.5."
   ]
  },
  {
   "cell_type": "code",
   "execution_count": 37,
   "metadata": {
    "collapsed": false
   },
   "outputs": [
    {
     "name": "stdout",
     "output_type": "stream",
     "text": [
      "Proportion of labels predicted within one level: 0.7149968886123211\n"
     ]
    }
   ],
   "source": [
    "pred = best_classifier.predict(X_test)\n",
    "proportion = np.mean((np.abs(pred - y_test) <= 0.5).astype(int))\n",
    "print(\"Proportion of labels predicted within one level:\", proportion)"
   ]
  },
  {
   "cell_type": "markdown",
   "metadata": {},
   "source": [
    "Around 71.5% of the predictions differ with the true label by one rating level. "
   ]
  },
  {
   "cell_type": "markdown",
   "metadata": {},
   "source": [
    "Now we can make a prediction given certain features of a potential new business idea."
   ]
  },
  {
   "cell_type": "code",
   "execution_count": 38,
   "metadata": {
    "collapsed": false
   },
   "outputs": [
    {
     "data": {
      "text/html": [
       "<div>\n",
       "<style scoped>\n",
       "    .dataframe tbody tr th:only-of-type {\n",
       "        vertical-align: middle;\n",
       "    }\n",
       "\n",
       "    .dataframe tbody tr th {\n",
       "        vertical-align: top;\n",
       "    }\n",
       "\n",
       "    .dataframe thead th {\n",
       "        text-align: right;\n",
       "    }\n",
       "</style>\n",
       "<table border=\"1\" class=\"dataframe\">\n",
       "  <thead>\n",
       "    <tr style=\"text-align: right;\">\n",
       "      <th></th>\n",
       "      <th>zip_code</th>\n",
       "      <th>category</th>\n",
       "      <th>delivery</th>\n",
       "      <th>pickup</th>\n",
       "      <th>restaurant_reservation</th>\n",
       "      <th>is_claimed</th>\n",
       "      <th>price</th>\n",
       "      <th>wed_start</th>\n",
       "      <th>wed_end</th>\n",
       "      <th>wed_is_overnight</th>\n",
       "      <th>fri_start</th>\n",
       "      <th>fri_end</th>\n",
       "      <th>fri_is_overnight</th>\n",
       "      <th>sat_start</th>\n",
       "      <th>sat_end</th>\n",
       "      <th>sat_is_overnight</th>\n",
       "      <th>sun_start</th>\n",
       "      <th>sun_end</th>\n",
       "      <th>sun_is_overnight</th>\n",
       "    </tr>\n",
       "  </thead>\n",
       "  <tbody>\n",
       "    <tr>\n",
       "      <th>0</th>\n",
       "      <td>10025</td>\n",
       "      <td>{40}</td>\n",
       "      <td>1</td>\n",
       "      <td>1</td>\n",
       "      <td>1</td>\n",
       "      <td>1</td>\n",
       "      <td>2</td>\n",
       "      <td>0900</td>\n",
       "      <td>2200</td>\n",
       "      <td>0</td>\n",
       "      <td>0900</td>\n",
       "      <td>2200</td>\n",
       "      <td>0</td>\n",
       "      <td>0900</td>\n",
       "      <td>2200</td>\n",
       "      <td>0</td>\n",
       "      <td>0900</td>\n",
       "      <td>2200</td>\n",
       "      <td>0</td>\n",
       "    </tr>\n",
       "  </tbody>\n",
       "</table>\n",
       "</div>"
      ],
      "text/plain": [
       "  zip_code category  delivery  pickup  restaurant_reservation  is_claimed  \\\n",
       "0    10025     {40}         1       1                       1           1   \n",
       "\n",
       "   price wed_start wed_end  wed_is_overnight fri_start fri_end  \\\n",
       "0      2      0900    2200                 0      0900    2200   \n",
       "\n",
       "   fri_is_overnight sat_start sat_end  sat_is_overnight sun_start sun_end  \\\n",
       "0                 0      0900    2200                 0      0900    2200   \n",
       "\n",
       "   sun_is_overnight  \n",
       "0                 0  "
      ]
     },
     "execution_count": 38,
     "metadata": {},
     "output_type": "execute_result"
    }
   ],
   "source": [
    "new_restaurant = pd.DataFrame()\n",
    "new_restaurant['zip_code'], new_restaurant['category'] = [\"10025\"], [{cat2num(\"chinese\")}]\n",
    "new_restaurant['delivery'] = new_restaurant['pickup'] = new_restaurant['restaurant_reservation'] = [1]\n",
    "new_restaurant['is_claimed'], new_restaurant['price'] = [1], [2]\n",
    "for day in ['wed', 'fri', 'sat', 'sun']:\n",
    "    start = '_'.join([day, 'start'])\n",
    "    end = '_'.join([day, 'end'])\n",
    "    overnight = '_'.join([day, 'is', 'overnight'])\n",
    "    new_restaurant[start] = [\"0900\"]\n",
    "    new_restaurant[end] = [\"2200\"]\n",
    "    new_restaurant[overnight] = [0]\n",
    "new_restaurant"
   ]
  },
  {
   "cell_type": "markdown",
   "metadata": {},
   "source": [
    "We get the compressed and engineered features using our 'compress_features' function and make the prediction."
   ]
  },
  {
   "cell_type": "code",
   "execution_count": 39,
   "metadata": {
    "collapsed": false
   },
   "outputs": [
    {
     "name": "stdout",
     "output_type": "stream",
     "text": [
      "Engineered Features:\n",
      "[[1.00e+00 1.00e+00 1.00e+00 1.00e+00 2.00e+00 0.00e+00 0.00e+00 1.30e+01\n",
      "  1.30e+01 5.40e+02 1.32e+03 5.40e+02 1.32e+03 0.00e+00 0.00e+00 0.00e+00\n",
      "  0.00e+00 0.00e+00 0.00e+00 0.00e+00 0.00e+00 0.00e+00 0.00e+00 0.00e+00\n",
      "  0.00e+00 0.00e+00 0.00e+00 0.00e+00 0.00e+00 0.00e+00 0.00e+00 0.00e+00\n",
      "  0.00e+00 0.00e+00 0.00e+00 0.00e+00 0.00e+00 0.00e+00 0.00e+00 0.00e+00\n",
      "  1.00e+00 0.00e+00 0.00e+00 0.00e+00 0.00e+00 0.00e+00 0.00e+00 0.00e+00\n",
      "  0.00e+00 0.00e+00 0.00e+00 0.00e+00 0.00e+00 0.00e+00 0.00e+00 0.00e+00\n",
      "  0.00e+00 0.00e+00 0.00e+00 0.00e+00 0.00e+00 0.00e+00 0.00e+00 0.00e+00\n",
      "  0.00e+00 0.00e+00 0.00e+00 0.00e+00 0.00e+00 0.00e+00 0.00e+00 0.00e+00\n",
      "  0.00e+00 0.00e+00 0.00e+00 0.00e+00 0.00e+00 0.00e+00 0.00e+00 0.00e+00\n",
      "  0.00e+00 0.00e+00 0.00e+00 0.00e+00 0.00e+00 0.00e+00 0.00e+00 0.00e+00\n",
      "  0.00e+00 0.00e+00 0.00e+00 0.00e+00 0.00e+00 0.00e+00 0.00e+00 0.00e+00\n",
      "  0.00e+00 0.00e+00 0.00e+00 0.00e+00 0.00e+00 0.00e+00 0.00e+00 0.00e+00\n",
      "  0.00e+00 0.00e+00 0.00e+00 0.00e+00 0.00e+00 0.00e+00 0.00e+00 0.00e+00\n",
      "  0.00e+00 0.00e+00 0.00e+00 0.00e+00 0.00e+00 0.00e+00 0.00e+00 0.00e+00\n",
      "  0.00e+00 0.00e+00 0.00e+00 0.00e+00 0.00e+00 0.00e+00 0.00e+00 0.00e+00\n",
      "  0.00e+00 0.00e+00 0.00e+00 0.00e+00 1.00e+00 0.00e+00 0.00e+00 0.00e+00\n",
      "  0.00e+00]]\n",
      "Predicted Rating: 3.5\n"
     ]
    }
   ],
   "source": [
    "X, _ = compress_features(new_restaurant, unique_categs)\n",
    "print(\"Engineered Features:\")\n",
    "print(X)\n",
    "print(\"Predicted Rating:\", best_classifier.predict(X)[0])"
   ]
  },
  {
   "cell_type": "markdown",
   "metadata": {},
   "source": [
    "<a id=\"step-8\"></a>\n",
    "\n",
    "## Part 8: Conclusion"
   ]
  },
  {
   "cell_type": "markdown",
   "metadata": {},
   "source": [
    "To summarize what we did:\n",
    "\n",
    "* Collected restaurant data using the Yelp API\n",
    "* Analyzed each business feature's association to the Yelp rating score\n",
    "* Selected which features to include and how to engineer them based on the analyses\n",
    "* Built different machine learning models (ANN, L2-regularized Polynomial Regression, Kernel SVM, L2-regularized Logistic Regression) \n",
    "* Used 5-fold cross validation to determine best model and hyperparameter\n",
    "* Evaluated our best model's performance on test data via several metrics"
   ]
  },
  {
   "cell_type": "markdown",
   "metadata": {},
   "source": [
    "Our goal was to predict potential Yelp restaurant ratings of a new business model, using only the business features. This is naturally a ***difficult*** problem since the Yelp rating of a restaurant is hugely dependant on the food quality, environment of the restaurant and the customer reviews. \n",
    "However, we tried to identify the most important business features that appear to influence the ratings the most, and used them to train machine learning models. \n",
    "We predicted around 32.5% of the restaurant ratings correctly and around 71.5% within the range of +/- 0.5 (one rating level difference).\n",
    "\n",
    "Therefore, given a new restaurant business model, we expect to \"approximately predict\" (within one level) the potential Yelp rating with around 71.5% accuracy using our best classifier."
   ]
  },
  {
   "cell_type": "markdown",
   "metadata": {},
   "source": [
    "<a id=\"step-9\"></a>\n",
    "\n",
    "## Part 9: Credits"
   ]
  },
  {
   "cell_type": "markdown",
   "metadata": {},
   "source": [
    "This is a class project for 15-388/688 (Practical Data Science) at Carnegie Mellon University taught by Professor Jeremy Z. Kolter in Spring 2018. \n",
    "\n",
    "We used the Yelp Business API for as our data source.  "
   ]
  }
 ],
 "metadata": {
  "anaconda-cloud": {},
  "kernelspec": {
   "display_name": "Python [default]",
   "language": "python",
   "name": "python3"
  },
  "language_info": {
   "codemirror_mode": {
    "name": "ipython",
    "version": 3
   },
   "file_extension": ".py",
   "mimetype": "text/x-python",
   "name": "python",
   "nbconvert_exporter": "python",
   "pygments_lexer": "ipython3",
   "version": "3.5.2"
  }
 },
 "nbformat": 4,
 "nbformat_minor": 2
}
